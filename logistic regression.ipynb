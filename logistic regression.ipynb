{
 "cells": [
  {
   "cell_type": "markdown",
   "metadata": {},
   "source": [
    "# Logistic Regression"
   ]
  },
  {
   "cell_type": "markdown",
   "metadata": {},
   "source": [
    "This section mentions how to create an application to classify handwritten digits. We will use the famous [MNIST handwritten digit database](http://yann.lecun.com/exdb/mnist/) as our training dataset. It consists of 28 x 28 pixels grayscale images of handwritten digits (0 to 9) and labels for each image indicating which digit it represents.\n",
    "\n",
    "Here are some sample images from the dataset:\n",
    "![MNIST sample](images/mnist_samples.png)"
   ]
  },
  {
   "cell_type": "markdown",
   "metadata": {},
   "source": [
    "## Workflow"
   ]
  },
  {
   "cell_type": "markdown",
   "metadata": {},
   "source": [
    "![workflow](images/logistic_regression.svg)"
   ]
  },
  {
   "cell_type": "markdown",
   "metadata": {},
   "source": [
    "## Libraries"
   ]
  },
  {
   "cell_type": "code",
   "execution_count": 1,
   "metadata": {},
   "outputs": [],
   "source": [
    "import torch\n",
    "import torchvision\n",
    "from torchvision.datasets import MNIST\n",
    "import torchvision.transforms as transforms\n",
    "from torch.utils.data import random_split\n",
    "from torch.utils.data import DataLoader\n",
    "import torch.nn as nn\n",
    "import torch.nn.functional as F\n",
    "import matplotlib.pyplot as plt"
   ]
  },
  {
   "cell_type": "markdown",
   "metadata": {},
   "source": [
    "## Convert train & test images to tensors"
   ]
  },
  {
   "cell_type": "code",
   "execution_count": 2,
   "metadata": {},
   "outputs": [],
   "source": [
    "dataset = MNIST(root='data/', train=True, transform=transforms.ToTensor(), download=True)\n",
    "test_ds = MNIST(root='data/', train=False, transform=transforms.ToTensor())"
   ]
  },
  {
   "cell_type": "markdown",
   "metadata": {},
   "source": [
    "## Split train images to train & validation sét"
   ]
  },
  {
   "cell_type": "code",
   "execution_count": 3,
   "metadata": {},
   "outputs": [],
   "source": [
    "data_size = len(dataset)\n",
    "train_size = round(data_size*0.8)\n",
    "val_size = data_size - train_size\n",
    "train_ds, val_ds = random_split(dataset, [train_size, val_size])"
   ]
  },
  {
   "cell_type": "markdown",
   "metadata": {},
   "source": [
    "## Define batch size & dataloaders"
   ]
  },
  {
   "cell_type": "code",
   "execution_count": 4,
   "metadata": {},
   "outputs": [],
   "source": [
    "batch_size = 128\n",
    "train_loader = DataLoader(train_ds, batch_size, shuffle=True)\n",
    "val_loader = DataLoader(val_ds, batch_size*2)\n",
    "test_loader = DataLoader(test_ds, batch_size*2)"
   ]
  },
  {
   "cell_type": "markdown",
   "metadata": {},
   "source": [
    "## Define functions"
   ]
  },
  {
   "cell_type": "code",
   "execution_count": 5,
   "metadata": {},
   "outputs": [],
   "source": [
    "class MnistModel(nn.Module):\n",
    "    def __init__(self, in_features, out_classes):\n",
    "        super().__init__()\n",
    "        self.linear = nn.Linear(in_features, out_classes)\n",
    "    \n",
    "    # compute label probabilities of an image\n",
    "    def forward(self, X):\n",
    "        X = X.reshape(-1, self.linear.in_features)\n",
    "        Y_linear = self.linear(X)\n",
    "        return Y_linear\n",
    "    \n",
    "    # predict label\n",
    "    def predict(self, X):\n",
    "        Y_linear = self(X)\n",
    "        probs = F.softmax(Y_linear.detach(), dim=1)\n",
    "        _, Y_hat = torch.max(probs, dim=1)\n",
    "        return Y_hat\n",
    "    \n",
    "    # compute cost\n",
    "    def cost(self, batch):\n",
    "        images, labels = batch\n",
    "        Y_linear = self(images)\n",
    "        cost = F.cross_entropy(Y_linear, labels)\n",
    "        return cost\n",
    "    \n",
    "    # evaluation\n",
    "    def evaluate(self, batch):\n",
    "        images, labels = batch\n",
    "        Y_hat = self.predict(images)\n",
    "        acc = torch.sum(Y_hat == labels).item()/len(Y_hat)\n",
    "        Y_linear = self(images)\n",
    "        cost = F.cross_entropy(Y_linear.detach(), labels).item()\n",
    "        eval = {\n",
    "            'cost': cost,\n",
    "            'accuracy': acc\n",
    "        }\n",
    "        return log"
   ]
  },
  {
   "cell_type": "markdown",
   "metadata": {},
   "source": [
    "## Training"
   ]
  },
  {
   "cell_type": "code",
   "execution_count": 6,
   "metadata": {},
   "outputs": [],
   "source": [
    "def evaluate_epoch(batches_evaluation):\n",
    "    batch_costs = [x['cost'] for x in batches_evaluation]\n",
    "    batch_accs = [x['accuracy'] for x in batches_evaluation]    \n",
    "    epoch_cost = sum(batch_costs)/len(batch_costs)\n",
    "    epoch_acc = sum(batch_accs)/len(batch_accs)\n",
    "    log = {\n",
    "        'cost': epoch_cost,\n",
    "        'accuracy': epoch_acc\n",
    "    }\n",
    "    return log"
   ]
  },
  {
   "cell_type": "code",
   "execution_count": 7,
   "metadata": {},
   "outputs": [],
   "source": [
    "def fit(epochs, model, train_loader, val_loader, lr, opt_func):\n",
    "    optimizer = opt_func(model.parameters(), lr=lr)\n",
    "    logs = list()\n",
    "    for i in range(epochs):\n",
    "        # training phase\n",
    "        for batch in train_loader:\n",
    "            cost = model.cost(batch)  # compute cost\n",
    "            cost.backward()  # compute gradients\n",
    "            optimizer.step()  # update parameters\n",
    "            optimizer.zero_grad()  # reset gradients to zero\n",
    "        \n",
    "        # validation phase\n",
    "        batches_eval = [model.evaluate(batch) for batch in val_loader]\n",
    "        epoch_eval = evaluate_epoch(batches_eval)\n",
    "        logs.append(epoch_eval)\n",
    "        print(\"epoch {}: validation cost = {}, validation accuracy = {}\".format(\n",
    "                i+1, round(epoch_eval['cost'],2), round(epoch_eval['accuracy'], 2))\n",
    "             )\n",
    "    return logs"
   ]
  },
  {
   "cell_type": "code",
   "execution_count": 8,
   "metadata": {},
   "outputs": [],
   "source": [
    "in_features = 28*28  # flat an image to a vector\n",
    "out_classes = 10\n",
    "model = MnistModel(in_features, out_classes)"
   ]
  },
  {
   "cell_type": "code",
   "execution_count": 9,
   "metadata": {},
   "outputs": [],
   "source": [
    "lr = 1e-3  # learning rate\n",
    "opt_func = torch.optim.SGD  # optimizer function"
   ]
  },
  {
   "cell_type": "code",
   "execution_count": 10,
   "metadata": {},
   "outputs": [
    {
     "name": "stderr",
     "output_type": "stream",
     "text": [
      "/home/tuanva/.local/lib/python3.8/site-packages/torch/autograd/__init__.py:130: UserWarning: CUDA initialization: Found no NVIDIA driver on your system. Please check that you have an NVIDIA GPU and installed a driver from http://www.nvidia.com/Download/index.aspx (Triggered internally at  /pytorch/c10/cuda/CUDAFunctions.cpp:100.)\n",
      "  Variable._execution_engine.run_backward(\n"
     ]
    },
    {
     "name": "stdout",
     "output_type": "stream",
     "text": [
      "epoch 1: validation cost = 1.95, validation accuracy = 0.61\n",
      "epoch 2: validation cost = 1.69, validation accuracy = 0.7\n",
      "epoch 3: validation cost = 1.5, validation accuracy = 0.74\n",
      "epoch 4: validation cost = 1.35, validation accuracy = 0.77\n",
      "epoch 5: validation cost = 1.24, validation accuracy = 0.78\n",
      "epoch 6: validation cost = 1.15, validation accuracy = 0.79\n",
      "epoch 7: validation cost = 1.07, validation accuracy = 0.8\n",
      "epoch 8: validation cost = 1.01, validation accuracy = 0.81\n",
      "epoch 9: validation cost = 0.96, validation accuracy = 0.82\n",
      "epoch 10: validation cost = 0.92, validation accuracy = 0.82\n",
      "epoch 11: validation cost = 0.88, validation accuracy = 0.82\n",
      "epoch 12: validation cost = 0.85, validation accuracy = 0.83\n",
      "epoch 13: validation cost = 0.82, validation accuracy = 0.83\n",
      "epoch 14: validation cost = 0.8, validation accuracy = 0.84\n",
      "epoch 15: validation cost = 0.77, validation accuracy = 0.84\n",
      "epoch 16: validation cost = 0.75, validation accuracy = 0.84\n",
      "epoch 17: validation cost = 0.74, validation accuracy = 0.84\n",
      "epoch 18: validation cost = 0.72, validation accuracy = 0.84\n",
      "epoch 19: validation cost = 0.71, validation accuracy = 0.85\n",
      "epoch 20: validation cost = 0.69, validation accuracy = 0.85\n"
     ]
    }
   ],
   "source": [
    "epochs = 20\n",
    "logs = fit(epochs, model, train_loader, val_loader, lr, opt_func)"
   ]
  },
  {
   "cell_type": "markdown",
   "metadata": {},
   "source": [
    "### Evaluations on validation set"
   ]
  },
  {
   "cell_type": "code",
   "execution_count": 11,
   "metadata": {},
   "outputs": [
    {
     "data": {
      "image/png": "[encoded data removed]",
      "text/plain": [
       "<Figure size 432x288 with 1 Axes>"
      ]
     },
     "metadata": {
      "needs_background": "light"
     },
     "output_type": "display_data"
    }
   ],
   "source": [
    "accuracies = [log['accuracy'] for log in logs]\n",
    "plt.plot(accuracies, '-x')\n",
    "plt.xlabel('epoch')\n",
    "plt.ylabel('accuracy')\n",
    "plt.xticks(range(epochs))\n",
    "plt.show();"
   ]
  },
  {
   "cell_type": "code",
   "execution_count": 12,
   "metadata": {},
   "outputs": [
    {
     "data": {
      "image/png": "[encoded data removed]",
      "text/plain": [
       "<Figure size 432x288 with 1 Axes>"
      ]
     },
     "metadata": {
      "needs_background": "light"
     },
     "output_type": "display_data"
    }
   ],
   "source": [
    "costs = [log['cost'] for log in logs]\n",
    "plt.plot(costs, '-x')\n",
    "plt.xlabel('epoch')\n",
    "plt.ylabel('cost')\n",
    "plt.xticks(range(epochs))\n",
    "plt.show();"
   ]
  },
  {
   "cell_type": "markdown",
   "metadata": {},
   "source": [
    "### Predict on test set"
   ]
  },
  {
   "cell_type": "code",
   "execution_count": 13,
   "metadata": {},
   "outputs": [
    {
     "data": {
      "image/png": "[encoded data removed]",
      "text/plain": [
       "<Figure size 432x288 with 1 Axes>"
      ]
     },
     "metadata": {
      "needs_background": "light"
     },
     "output_type": "display_data"
    }
   ],
   "source": [
    "img, label = test_ds[10]\n",
    "plt.imshow(img[0], cmap='gray');"
   ]
  },
  {
   "cell_type": "code",
   "execution_count": 14,
   "metadata": {},
   "outputs": [
    {
     "name": "stdout",
     "output_type": "stream",
     "text": [
      "Label: 0, Predicted: 0\n"
     ]
    }
   ],
   "source": [
    "y_hat = model.predict(img)\n",
    "print('Label: {}, Predicted: {}'.format(label, y_hat.item()))"
   ]
  },
  {
   "cell_type": "markdown",
   "metadata": {},
   "source": [
    "### Evaluation on test dataset"
   ]
  },
  {
   "cell_type": "code",
   "execution_count": 15,
   "metadata": {},
   "outputs": [
    {
     "name": "stdout",
     "output_type": "stream",
     "text": [
      "test cost = 0.65, test accuracy = 0.86\n"
     ]
    }
   ],
   "source": [
    "batches_eval = [model.evaluate(batch) for batch in test_loader]\n",
    "test_eval = evaluate_epoch(batches_eval)\n",
    "print('test cost = {}, test accuracy = {}'.format(round(test_eval['cost'], 2), round(test_eval['accuracy'], 2)))"
   ]
  },
  {
   "cell_type": "markdown",
   "metadata": {},
   "source": [
    "## Save model to file"
   ]
  },
  {
   "cell_type": "code",
   "execution_count": 16,
   "metadata": {},
   "outputs": [],
   "source": [
    "filename = 'mnist-logistic.pth'\n",
    "torch.save(model.state_dict(), filename)"
   ]
  },
  {
   "cell_type": "markdown",
   "metadata": {},
   "source": [
    "### Load model from file"
   ]
  },
  {
   "cell_type": "code",
   "execution_count": 17,
   "metadata": {},
   "outputs": [
    {
     "data": {
      "text/plain": [
       "OrderedDict([('linear.weight',\n",
       "              tensor([[ 0.0283,  0.0055, -0.0129,  ...,  0.0062,  0.0060, -0.0268],\n",
       "                      [ 0.0152, -0.0010, -0.0014,  ..., -0.0098,  0.0259,  0.0202],\n",
       "                      [-0.0334, -0.0008, -0.0354,  ..., -0.0081,  0.0318, -0.0182],\n",
       "                      ...,\n",
       "                      [-0.0290, -0.0061,  0.0323,  ...,  0.0306, -0.0066,  0.0324],\n",
       "                      [ 0.0073,  0.0133,  0.0180,  ..., -0.0085,  0.0235, -0.0134],\n",
       "                      [-0.0215,  0.0077, -0.0331,  ...,  0.0322, -0.0030,  0.0075]])),\n",
       "             ('linear.bias',\n",
       "              tensor([-0.0081, -0.0178, -0.0278,  0.0034,  0.0045,  0.0348, -0.0134,  0.0258,\n",
       "                       0.0218, -0.0189]))])"
      ]
     },
     "execution_count": 17,
     "metadata": {},
     "output_type": "execute_result"
    }
   ],
   "source": [
    "model2 = MnistModel(in_features, out_classes)\n",
    "model2.state_dict()"
   ]
  },
  {
   "cell_type": "code",
   "execution_count": 18,
   "metadata": {},
   "outputs": [
    {
     "data": {
      "text/plain": [
       "OrderedDict([('linear.weight',\n",
       "              tensor([[ 0.0214,  0.0295, -0.0290,  ...,  0.0179, -0.0081, -0.0195],\n",
       "                      [ 0.0052,  0.0232, -0.0249,  ..., -0.0160, -0.0291, -0.0354],\n",
       "                      [-0.0180,  0.0349, -0.0074,  ..., -0.0027, -0.0131, -0.0281],\n",
       "                      ...,\n",
       "                      [-0.0065,  0.0067, -0.0113,  ..., -0.0117, -0.0066,  0.0239],\n",
       "                      [-0.0109, -0.0198,  0.0231,  ...,  0.0199, -0.0036, -0.0157],\n",
       "                      [-0.0142, -0.0356, -0.0031,  ..., -0.0224,  0.0044,  0.0019]])),\n",
       "             ('linear.bias',\n",
       "              tensor([-0.0309,  0.1277, -0.0120, -0.0152,  0.0278,  0.0674, -0.0316,  0.0534,\n",
       "                      -0.0627,  0.0245]))])"
      ]
     },
     "execution_count": 18,
     "metadata": {},
     "output_type": "execute_result"
    }
   ],
   "source": [
    "model2.load_state_dict(torch.load('mnist-logistic.pth'))\n",
    "model2.state_dict()"
   ]
  },
  {
   "cell_type": "code",
   "execution_count": null,
   "metadata": {},
   "outputs": [],
   "source": []
  }
 ],
 "metadata": {
  "kernelspec": {
   "display_name": "Python 3",
   "language": "python",
   "name": "python3"
  },
  "language_info": {
   "codemirror_mode": {
    "name": "ipython",
    "version": 3
   },
   "file_extension": ".py",
   "mimetype": "text/x-python",
   "name": "python",
   "nbconvert_exporter": "python",
   "pygments_lexer": "ipython3",
   "version": "3.8.2"
  }
 },
 "nbformat": 4,
 "nbformat_minor": 4
}
