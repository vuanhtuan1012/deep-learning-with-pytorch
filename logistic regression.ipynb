{
 "cells": [
  {
   "cell_type": "markdown",
   "metadata": {},
   "source": [
    "# Logistic Regression"
   ]
  },
  {
   "cell_type": "markdown",
   "metadata": {},
   "source": [
    "This section mentions how to train a model to classify handwritten digits. We will use the famous [MNIST handwritten digit database](http://yann.lecun.com/exdb/mnist/) as our training dataset. It consists of 28 x 28 pixels grayscale images of handwritten digits (0 to 9) and labels for each image indicating which digit it represents. The trained model is save to file after the training process.\n",
    "\n",
    "Here are some sample images from the dataset:\n",
    "![MNIST sample](images/mnist_samples.png)\n",
    "\n",
    "<center>\n",
    "    (image source: <a href=\"https://www.researchgate.net/publication/306056875_An_analysis_of_image_storage_systems_for_scalable_training_of_deep_neural_networks\">researchgate.net</a>)\n",
    "</center>\n",
    "\n",
    "> We suppose that there'are linear lines separating digit groups.\n",
    "\n",
    "The workflow is presented in the figure below.\n",
    "\n",
    "![workflow](images/logistic_regression.svg)"
   ]
  },
  {
   "cell_type": "markdown",
   "metadata": {},
   "source": [
    "## Import libraries"
   ]
  },
  {
   "cell_type": "code",
   "execution_count": 25,
   "metadata": {},
   "outputs": [],
   "source": [
    "import torch\n",
    "import torchvision\n",
    "from torchvision.datasets import MNIST\n",
    "import torchvision.transforms as transforms\n",
    "from torch.utils.data import random_split\n",
    "from torch.utils.data import DataLoader\n",
    "import torch.nn as nn\n",
    "import torch.nn.functional as F\n",
    "import matplotlib.pyplot as plt"
   ]
  },
  {
   "cell_type": "markdown",
   "metadata": {},
   "source": [
    "## 1. Prepare data"
   ]
  },
  {
   "cell_type": "markdown",
   "metadata": {},
   "source": [
    "### 1.1 Convert train & test images to tensors"
   ]
  },
  {
   "cell_type": "code",
   "execution_count": 26,
   "metadata": {},
   "outputs": [],
   "source": [
    "dataset = MNIST(root='data/', train=True, transform=transforms.ToTensor(), download=True)\n",
    "test_ds = MNIST(root='data/', train=False, transform=transforms.ToTensor())"
   ]
  },
  {
   "cell_type": "markdown",
   "metadata": {},
   "source": [
    "### 1.2 Split train images to train & validation sets"
   ]
  },
  {
   "cell_type": "code",
   "execution_count": 27,
   "metadata": {},
   "outputs": [],
   "source": [
    "data_size = len(dataset)\n",
    "train_size = round(data_size*0.8)\n",
    "val_size = data_size - train_size\n",
    "train_ds, val_ds = random_split(dataset, [train_size, val_size])"
   ]
  },
  {
   "cell_type": "markdown",
   "metadata": {},
   "source": [
    "### 1.3 Define batch size & dataloaders"
   ]
  },
  {
   "cell_type": "code",
   "execution_count": 28,
   "metadata": {},
   "outputs": [],
   "source": [
    "batch_size = 128\n",
    "train_loader = DataLoader(train_ds, batch_size, shuffle=True)\n",
    "val_loader = DataLoader(val_ds, batch_size*2)\n",
    "test_loader = DataLoader(test_ds, batch_size*2)"
   ]
  },
  {
   "cell_type": "markdown",
   "metadata": {},
   "source": [
    "## 2. Create model"
   ]
  },
  {
   "cell_type": "code",
   "execution_count": 29,
   "metadata": {},
   "outputs": [],
   "source": [
    "class MnistModel(nn.Module):\n",
    "    def __init__(self, in_features, out_classes):\n",
    "        super().__init__()\n",
    "        self.linear = nn.Linear(in_features, out_classes)\n",
    "    \n",
    "    def forward(self, X:torch.tensor) -> torch.tensor:\n",
    "        \"\"\"Compute linear prediction of image(s)\n",
    "        \n",
    "        Args:\n",
    "            X (tensor.torch): input image(s)\n",
    "        \n",
    "        Returns:\n",
    "            tensor.torch: linear prediction of image(s)\n",
    "        \"\"\"\n",
    "        X = X.reshape(-1, self.linear.in_features)\n",
    "        Y_linear = self.linear(X)\n",
    "        return Y_linear\n",
    "    \n",
    "    def predict(self, X:torch.tensor) -> torch.tensor:\n",
    "        \"\"\"Predict class(es) of image(s)\n",
    "        \n",
    "        Args:\n",
    "            X (tensor.torch): input image(s)\n",
    "        \n",
    "        Returns:\n",
    "            tensor.torch: class(es) predicted\n",
    "        \"\"\"\n",
    "        Y_linear = self(X)\n",
    "        probs = F.softmax(Y_linear.detach(), dim=1)\n",
    "        _, Y_hat = torch.max(probs, dim=1)\n",
    "        return Y_hat\n",
    "    \n",
    "    def cost_func(self, batch:list) -> torch.tensor:\n",
    "        \"\"\"Compute cost of predictions\n",
    "        \n",
    "        Args:\n",
    "            batch (list): containing 2 items: images & labels\n",
    "            \n",
    "        Returns:\n",
    "            tensor.torch: the cost\n",
    "        \"\"\"\n",
    "        images, labels = batch\n",
    "        Y_linear = self(images)\n",
    "        cost = F.cross_entropy(Y_linear, labels)\n",
    "        return cost\n",
    "    \n",
    "    def evaluate(self, batch:list) -> dict:\n",
    "        \"\"\"Compute cost & accuracy of predictions\n",
    "        \n",
    "        Args:\n",
    "            batch (list): containing 2 items: images & labels\n",
    "        \n",
    "        Returns:\n",
    "            dict: containing 2 keys: cost & accuracy\n",
    "        \"\"\"\n",
    "        images, labels = batch\n",
    "        Y_hat = self.predict(images)\n",
    "        acc = torch.sum(Y_hat == labels).item()/len(Y_hat)\n",
    "        Y_linear = self(images)\n",
    "        cost = F.cross_entropy(Y_linear.detach(), labels).item()\n",
    "        res = {\n",
    "            'cost': cost,\n",
    "            'accuracy': acc\n",
    "        }\n",
    "        return res"
   ]
  },
  {
   "cell_type": "code",
   "execution_count": 30,
   "metadata": {},
   "outputs": [],
   "source": [
    "in_features = 28*28  # flat an image to a vector\n",
    "out_classes = 10  # there'are 10 classes of digits\n",
    "model = MnistModel(in_features, out_classes)"
   ]
  },
  {
   "cell_type": "markdown",
   "metadata": {},
   "source": [
    "## 3. Define optimizer"
   ]
  },
  {
   "cell_type": "code",
   "execution_count": 31,
   "metadata": {},
   "outputs": [],
   "source": [
    "lr = 1e-1  # learning rate\n",
    "optimizer = torch.optim.SGD(model.parameters(), lr)"
   ]
  },
  {
   "cell_type": "markdown",
   "metadata": {},
   "source": [
    "## 4. Train model"
   ]
  },
  {
   "cell_type": "code",
   "execution_count": 32,
   "metadata": {},
   "outputs": [],
   "source": [
    "def evaluateEpoch(batch_evals:list, decimals=2) -> dict:\n",
    "    \"\"\"Get cost & accuracy of an epoch prediction\n",
    "    \n",
    "    Args:\n",
    "        batch_evals (list): list of batch evaluation\n",
    "        decimals (int, optional): decimals to round values\n",
    "    \n",
    "    Returns:\n",
    "        dict: containing 2 keys: cost & accuracy\n",
    "    \"\"\"\n",
    "    batch_costs = [x['cost'] for x in batch_evals]\n",
    "    batch_accs = [x['accuracy'] for x in batch_evals]    \n",
    "    cost = sum(batch_costs)/len(batch_costs)\n",
    "    acc = sum(batch_accs)/len(batch_accs)\n",
    "    res = {\n",
    "        'cost': round(cost, decimals),\n",
    "        'accuracy': round(acc, decimals)\n",
    "    }\n",
    "    return res"
   ]
  },
  {
   "cell_type": "code",
   "execution_count": 33,
   "metadata": {},
   "outputs": [],
   "source": [
    "def fit(epochs:int, model:MnistModel, optimizer:torch.optim,\n",
    "        train_loader:DataLoader, val_loader:DataLoader) -> list:\n",
    "    \"\"\"Train model\n",
    "    \n",
    "    Args:\n",
    "        epochs (int): number of iterations\n",
    "        model (MnistModel): model to train\n",
    "        optimizer (torch.optim): function to optimize model parameters\n",
    "        train_loader (DataLoader): data loader for training phase\n",
    "        val_loader (DataLoader): data loader for validation phase\n",
    "        \n",
    "    Returns:\n",
    "        list: evaluation results of epochs\n",
    "    \"\"\"\n",
    "    logs = list()\n",
    "    for i in range(epochs):\n",
    "        # training phase\n",
    "        for batch in train_loader:\n",
    "            cost = model.cost_func(batch)  # compute cost\n",
    "            cost.backward()  # compute gradients\n",
    "            optimizer.step()  # adjust parameters\n",
    "            optimizer.zero_grad()  # reset gradients to zero\n",
    "        \n",
    "        # validation phase\n",
    "        batch_evals = [model.evaluate(batch) for batch in val_loader]\n",
    "        res = evaluateEpoch(batch_evals)\n",
    "        logs.append(res)\n",
    "        print(\"epoch {}: validation cost = {}, validation accuracy = {}\".format(\n",
    "              i+1, res['cost'], res['accuracy']))\n",
    "    return logs"
   ]
  },
  {
   "cell_type": "code",
   "execution_count": 34,
   "metadata": {
    "scrolled": true
   },
   "outputs": [
    {
     "name": "stdout",
     "output_type": "stream",
     "text": [
      "epoch 1: validation cost = 0.41, validation accuracy = 0.89\n",
      "epoch 2: validation cost = 0.36, validation accuracy = 0.9\n",
      "epoch 3: validation cost = 0.34, validation accuracy = 0.91\n",
      "epoch 4: validation cost = 0.33, validation accuracy = 0.91\n",
      "epoch 5: validation cost = 0.32, validation accuracy = 0.91\n",
      "epoch 6: validation cost = 0.31, validation accuracy = 0.91\n",
      "epoch 7: validation cost = 0.3, validation accuracy = 0.91\n",
      "epoch 8: validation cost = 0.3, validation accuracy = 0.92\n",
      "epoch 9: validation cost = 0.3, validation accuracy = 0.92\n",
      "epoch 10: validation cost = 0.3, validation accuracy = 0.92\n"
     ]
    }
   ],
   "source": [
    "epochs = 10\n",
    "logs = fit(epochs, model, optimizer, train_loader, val_loader)"
   ]
  },
  {
   "cell_type": "markdown",
   "metadata": {},
   "source": [
    "### 4.1 Evaluations on validation set"
   ]
  },
  {
   "cell_type": "code",
   "execution_count": 35,
   "metadata": {},
   "outputs": [
    {
     "data": {
      "image/png": "[encoded data removed]",
      "text/plain": [
       "<Figure size 432x288 with 1 Axes>"
      ]
     },
     "metadata": {
      "needs_background": "light"
     },
     "output_type": "display_data"
    }
   ],
   "source": [
    "accuracies = [log['accuracy'] for log in logs]\n",
    "plt.plot(accuracies, '-x')\n",
    "plt.xlabel('epoch')\n",
    "plt.ylabel('accuracy')\n",
    "plt.xticks(range(epochs))\n",
    "plt.show();"
   ]
  },
  {
   "cell_type": "code",
   "execution_count": 36,
   "metadata": {},
   "outputs": [
    {
     "data": {
      "image/png": "[encoded data removed]",
      "text/plain": [
       "<Figure size 432x288 with 1 Axes>"
      ]
     },
     "metadata": {
      "needs_background": "light"
     },
     "output_type": "display_data"
    }
   ],
   "source": [
    "costs = [log['cost'] for log in logs]\n",
    "plt.plot(costs, '-x')\n",
    "plt.xlabel('epoch')\n",
    "plt.ylabel('cost')\n",
    "plt.xticks(range(epochs))\n",
    "plt.show();"
   ]
  },
  {
   "cell_type": "markdown",
   "metadata": {},
   "source": [
    "### 4.2 Predict on test set"
   ]
  },
  {
   "cell_type": "code",
   "execution_count": 37,
   "metadata": {},
   "outputs": [
    {
     "data": {
      "image/png": "[encoded data removed]",
      "text/plain": [
       "<Figure size 432x288 with 1 Axes>"
      ]
     },
     "metadata": {
      "needs_background": "light"
     },
     "output_type": "display_data"
    }
   ],
   "source": [
    "img, label = test_ds[10]\n",
    "plt.imshow(img[0], cmap='gray');"
   ]
  },
  {
   "cell_type": "code",
   "execution_count": 38,
   "metadata": {},
   "outputs": [
    {
     "name": "stdout",
     "output_type": "stream",
     "text": [
      "Label: 0, Predicted: 0\n"
     ]
    }
   ],
   "source": [
    "y_hat = model.predict(img)\n",
    "print('Label: {}, Predicted: {}'.format(label, y_hat.item()))"
   ]
  },
  {
   "cell_type": "code",
   "execution_count": 39,
   "metadata": {},
   "outputs": [
    {
     "data": {
      "text/plain": [
       "(torch.Tensor, torch.Tensor)"
      ]
     },
     "execution_count": 39,
     "metadata": {},
     "output_type": "execute_result"
    }
   ],
   "source": [
    "type(img), type(y_hat)"
   ]
  },
  {
   "cell_type": "markdown",
   "metadata": {},
   "source": [
    "### 4.3 Evaluation on test set"
   ]
  },
  {
   "cell_type": "code",
   "execution_count": 40,
   "metadata": {},
   "outputs": [
    {
     "name": "stdout",
     "output_type": "stream",
     "text": [
      "test cost = 0.29, test accuracy = 0.92\n"
     ]
    }
   ],
   "source": [
    "batch_evals = [model.evaluate(batch) for batch in test_loader]\n",
    "res = evaluateEpoch(batch_evals)\n",
    "print('test cost = {}, test accuracy = {}'.format(res['cost'], res['accuracy']))"
   ]
  },
  {
   "cell_type": "markdown",
   "metadata": {},
   "source": [
    "## 5. Save model"
   ]
  },
  {
   "cell_type": "code",
   "execution_count": 41,
   "metadata": {},
   "outputs": [],
   "source": [
    "filename = 'mnist-logistic.pth'\n",
    "torch.save(model.state_dict(), filename)"
   ]
  },
  {
   "cell_type": "code",
   "execution_count": 42,
   "metadata": {},
   "outputs": [
    {
     "data": {
      "text/plain": [
       "OrderedDict([('linear.weight',\n",
       "              tensor([[-2.9883e-05,  2.7532e-02,  1.0665e-03,  ..., -1.0763e-02,\n",
       "                       -1.5420e-02, -2.7935e-02],\n",
       "                      [ 1.2817e-02, -4.6979e-03,  1.2590e-02,  ..., -2.9658e-02,\n",
       "                        3.1874e-02,  2.7761e-02],\n",
       "                      [-2.7293e-02,  2.1336e-03, -1.7714e-02,  ...,  2.8113e-02,\n",
       "                        1.0875e-02, -1.3198e-02],\n",
       "                      ...,\n",
       "                      [-1.7033e-02, -1.3232e-03,  1.9284e-02,  ...,  2.5749e-02,\n",
       "                        7.7961e-04, -1.4659e-02],\n",
       "                      [-9.4601e-03,  2.7917e-02, -9.2593e-03,  ..., -2.0989e-02,\n",
       "                        2.7739e-02,  4.0610e-03],\n",
       "                      [-2.1058e-02, -9.0211e-03,  3.5213e-03,  ..., -3.3750e-02,\n",
       "                       -1.9250e-02,  1.4850e-02]])),\n",
       "             ('linear.bias',\n",
       "              tensor([ 0.0349,  0.0312, -0.0303,  0.0158, -0.0307,  0.0354,  0.0270, -0.0105,\n",
       "                      -0.0187,  0.0008]))])"
      ]
     },
     "execution_count": 42,
     "metadata": {},
     "output_type": "execute_result"
    }
   ],
   "source": [
    "# initialize a new model\n",
    "model2 = MnistModel(in_features, out_classes)\n",
    "model2.state_dict()"
   ]
  },
  {
   "cell_type": "code",
   "execution_count": 43,
   "metadata": {},
   "outputs": [
    {
     "data": {
      "text/plain": [
       "OrderedDict([('linear.weight',\n",
       "              tensor([[ 0.0076,  0.0155, -0.0013,  ...,  0.0331, -0.0210, -0.0128],\n",
       "                      [-0.0228, -0.0172,  0.0255,  ...,  0.0049,  0.0296, -0.0177],\n",
       "                      [ 0.0066,  0.0129, -0.0094,  ...,  0.0150, -0.0258,  0.0023],\n",
       "                      ...,\n",
       "                      [-0.0194, -0.0288,  0.0313,  ...,  0.0292,  0.0348,  0.0292],\n",
       "                      [-0.0119, -0.0013,  0.0166,  ..., -0.0252,  0.0344,  0.0294],\n",
       "                      [-0.0281,  0.0187, -0.0003,  ..., -0.0234,  0.0160, -0.0102]])),\n",
       "             ('linear.bias',\n",
       "              tensor([-0.3042,  0.3386,  0.0760, -0.2578,  0.0332,  1.0499, -0.0520,  0.4648,\n",
       "                      -1.2268, -0.1823]))])"
      ]
     },
     "execution_count": 43,
     "metadata": {},
     "output_type": "execute_result"
    }
   ],
   "source": [
    "# load model from file\n",
    "model2.load_state_dict(torch.load(filename))\n",
    "model2.state_dict()"
   ]
  },
  {
   "cell_type": "code",
   "execution_count": null,
   "metadata": {},
   "outputs": [],
   "source": []
  }
 ],
 "metadata": {
  "kernelspec": {
   "display_name": "Python 3",
   "language": "python",
   "name": "python3"
  },
  "language_info": {
   "codemirror_mode": {
    "name": "ipython",
    "version": 3
   },
   "file_extension": ".py",
   "mimetype": "text/x-python",
   "name": "python",
   "nbconvert_exporter": "python",
   "pygments_lexer": "ipython3",
   "version": "3.8.2"
  }
 },
 "nbformat": 4,
 "nbformat_minor": 4
}
