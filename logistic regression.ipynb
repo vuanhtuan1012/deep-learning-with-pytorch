{
 "cells": [
  {
   "cell_type": "markdown",
   "metadata": {},
   "source": [
    "# Logistic Regression"
   ]
  },
  {
   "cell_type": "markdown",
   "metadata": {},
   "source": [
    "This section mentions how to train a model to classify handwritten digits. We will use the famous [MNIST handwritten digit database](http://yann.lecun.com/exdb/mnist/) as our training dataset. It consists of 28 x 28 pixels grayscale images of handwritten digits (0 to 9) and labels for each image indicating which digit it represents. The trained model is save to file after the training process.\n",
    "\n",
    "Here are some sample images from the dataset:\n",
    "![MNIST sample](images/mnist_samples.png)\n",
    "\n",
    "<center>\n",
    "    (image source: <a href=\"https://www.researchgate.net/publication/306056875_An_analysis_of_image_storage_systems_for_scalable_training_of_deep_neural_networks\">researchgate.net</a>)\n",
    "</center>\n",
    "\n",
    "> We suppose that there'are linear lines separating digit groups.\n",
    "\n",
    "The workflow is presented in the figure below.\n",
    "\n",
    "![workflow](images/logistic_regression.svg)"
   ]
  },
  {
   "cell_type": "markdown",
   "metadata": {},
   "source": [
    "## Import libraries"
   ]
  },
  {
   "cell_type": "code",
   "execution_count": 1,
   "metadata": {},
   "outputs": [],
   "source": [
    "import torch\n",
    "import torchvision\n",
    "from torchvision.datasets import MNIST\n",
    "import torchvision.transforms as transforms\n",
    "from torch.utils.data import random_split\n",
    "from torch.utils.data import DataLoader\n",
    "import torch.nn as nn\n",
    "import torch.nn.functional as F\n",
    "import matplotlib.pyplot as plt"
   ]
  },
  {
   "cell_type": "markdown",
   "metadata": {},
   "source": [
    "## 1. Prepare data"
   ]
  },
  {
   "cell_type": "markdown",
   "metadata": {},
   "source": [
    "### 1.1 Convert train & test images to tensors"
   ]
  },
  {
   "cell_type": "code",
   "execution_count": 2,
   "metadata": {},
   "outputs": [],
   "source": [
    "dataset = MNIST(root='data/', train=True, transform=transforms.ToTensor(), download=True)\n",
    "test_ds = MNIST(root='data/', train=False, transform=transforms.ToTensor())"
   ]
  },
  {
   "cell_type": "markdown",
   "metadata": {},
   "source": [
    "### 1.2 Split train images to train & validation sets"
   ]
  },
  {
   "cell_type": "code",
   "execution_count": 3,
   "metadata": {},
   "outputs": [],
   "source": [
    "data_size = len(dataset)\n",
    "train_size = round(data_size*0.8)\n",
    "val_size = data_size - train_size\n",
    "train_ds, val_ds = random_split(dataset, [train_size, val_size])"
   ]
  },
  {
   "cell_type": "markdown",
   "metadata": {},
   "source": [
    "### 1.3 Define batch size & dataloaders"
   ]
  },
  {
   "cell_type": "code",
   "execution_count": 4,
   "metadata": {},
   "outputs": [],
   "source": [
    "batch_size = 128\n",
    "train_loader = DataLoader(train_ds, batch_size, shuffle=True)\n",
    "val_loader = DataLoader(val_ds, batch_size*2)\n",
    "test_loader = DataLoader(test_ds, batch_size*2)"
   ]
  },
  {
   "cell_type": "markdown",
   "metadata": {},
   "source": [
    "## 2. Create model"
   ]
  },
  {
   "cell_type": "code",
   "execution_count": 5,
   "metadata": {},
   "outputs": [],
   "source": [
    "class MnistModel(nn.Module):\n",
    "    def __init__(self, in_features, out_classes):\n",
    "        super().__init__()\n",
    "        self.linear = nn.Linear(in_features, out_classes)\n",
    "    \n",
    "    # hypothesis function, estimate label probabilities of an image\n",
    "    def forward(self, X):\n",
    "        X = X.reshape(-1, self.linear.in_features)\n",
    "        Y_linear = self.linear(X)\n",
    "        return Y_linear\n",
    "    \n",
    "    # predict label\n",
    "    def predict(self, X):\n",
    "        Y_linear = self(X)\n",
    "        probs = F.softmax(Y_linear.detach(), dim=1)\n",
    "        _, Y_hat = torch.max(probs, dim=1)\n",
    "        return Y_hat\n",
    "    \n",
    "    # compute cost\n",
    "    def cost_func(self, batch):\n",
    "        images, labels = batch\n",
    "        Y_linear = self(images)\n",
    "        cost = F.cross_entropy(Y_linear, labels)\n",
    "        return cost\n",
    "    \n",
    "    # evaluation\n",
    "    def evaluate_batch(self, batch):\n",
    "        images, labels = batch\n",
    "        Y_hat = self.predict(images)\n",
    "        acc = torch.sum(Y_hat == labels).item()/len(Y_hat)\n",
    "        Y_linear = self(images)\n",
    "        cost = F.cross_entropy(Y_linear.detach(), labels).item()\n",
    "        log = {\n",
    "            'cost': cost,\n",
    "            'accuracy': acc\n",
    "        }\n",
    "        return log"
   ]
  },
  {
   "cell_type": "code",
   "execution_count": 6,
   "metadata": {},
   "outputs": [],
   "source": [
    "in_features = 28*28  # flat an image to a vector\n",
    "out_classes = 10  # there'are 10 classes of digits\n",
    "model = MnistModel(in_features, out_classes)"
   ]
  },
  {
   "cell_type": "markdown",
   "metadata": {},
   "source": [
    "## 3. Define optimizer"
   ]
  },
  {
   "cell_type": "code",
   "execution_count": 7,
   "metadata": {},
   "outputs": [],
   "source": [
    "lr = 1e-3  # learning rate\n",
    "optimizer = torch.optim.SGD(model.parameters(), lr)"
   ]
  },
  {
   "cell_type": "markdown",
   "metadata": {},
   "source": [
    "## 4. Train model"
   ]
  },
  {
   "cell_type": "code",
   "execution_count": 8,
   "metadata": {},
   "outputs": [],
   "source": [
    "def evaluate_epoch(batch_evals):\n",
    "    batch_costs = [x['cost'] for x in batch_evals]\n",
    "    batch_accs = [x['accuracy'] for x in batch_evals]    \n",
    "    epoch_cost = sum(batch_costs)/len(batch_costs)\n",
    "    epoch_acc = sum(batch_accs)/len(batch_accs)\n",
    "    log = {\n",
    "        'cost': epoch_cost,\n",
    "        'accuracy': epoch_acc\n",
    "    }\n",
    "    return log"
   ]
  },
  {
   "cell_type": "code",
   "execution_count": 9,
   "metadata": {},
   "outputs": [],
   "source": [
    "def fit(epochs, model, optimizer, train_loader, val_loader):\n",
    "    logs = list()\n",
    "    for i in range(epochs):\n",
    "        # training phase\n",
    "        for batch in train_loader:\n",
    "            cost = model.cost_func(batch)  # compute cost\n",
    "            cost.backward()  # compute gradients\n",
    "            optimizer.step()  # adjust parameters\n",
    "            optimizer.zero_grad()  # reset gradients to zero\n",
    "        \n",
    "        # validation phase\n",
    "        batch_evals = [model.evaluate_batch(batch) for batch in val_loader]\n",
    "        epoch_eval = evaluate_epoch(batch_evals)\n",
    "        logs.append(epoch_eval)\n",
    "        print(\"epoch {}: validation cost = {}, validation accuracy = {}\".format(\n",
    "                i+1, round(epoch_eval['cost'],2), round(epoch_eval['accuracy'], 2))\n",
    "             )\n",
    "    return logs"
   ]
  },
  {
   "cell_type": "code",
   "execution_count": 10,
   "metadata": {},
   "outputs": [
    {
     "name": "stderr",
     "output_type": "stream",
     "text": [
      "/home/tuanva/.local/lib/python3.8/site-packages/torch/autograd/__init__.py:130: UserWarning: CUDA initialization: Found no NVIDIA driver on your system. Please check that you have an NVIDIA GPU and installed a driver from http://www.nvidia.com/Download/index.aspx (Triggered internally at  /pytorch/c10/cuda/CUDAFunctions.cpp:100.)\n",
      "  Variable._execution_engine.run_backward(\n"
     ]
    },
    {
     "name": "stdout",
     "output_type": "stream",
     "text": [
      "epoch 1: validation cost = 1.96, validation accuracy = 0.63\n",
      "epoch 2: validation cost = 1.7, validation accuracy = 0.71\n",
      "epoch 3: validation cost = 1.5, validation accuracy = 0.75\n",
      "epoch 4: validation cost = 1.35, validation accuracy = 0.77\n",
      "epoch 5: validation cost = 1.24, validation accuracy = 0.79\n",
      "epoch 6: validation cost = 1.14, validation accuracy = 0.8\n",
      "epoch 7: validation cost = 1.07, validation accuracy = 0.81\n",
      "epoch 8: validation cost = 1.01, validation accuracy = 0.81\n",
      "epoch 9: validation cost = 0.96, validation accuracy = 0.82\n",
      "epoch 10: validation cost = 0.91, validation accuracy = 0.83\n",
      "epoch 11: validation cost = 0.88, validation accuracy = 0.83\n",
      "epoch 12: validation cost = 0.84, validation accuracy = 0.83\n",
      "epoch 13: validation cost = 0.82, validation accuracy = 0.84\n",
      "epoch 14: validation cost = 0.79, validation accuracy = 0.84\n",
      "epoch 15: validation cost = 0.77, validation accuracy = 0.84\n",
      "epoch 16: validation cost = 0.75, validation accuracy = 0.84\n",
      "epoch 17: validation cost = 0.73, validation accuracy = 0.84\n",
      "epoch 18: validation cost = 0.72, validation accuracy = 0.85\n",
      "epoch 19: validation cost = 0.7, validation accuracy = 0.85\n",
      "epoch 20: validation cost = 0.69, validation accuracy = 0.85\n"
     ]
    }
   ],
   "source": [
    "epochs = 20\n",
    "logs = fit(epochs, model, optimizer, train_loader, val_loader)"
   ]
  },
  {
   "cell_type": "markdown",
   "metadata": {},
   "source": [
    "### 4.1 Evaluations on validation set"
   ]
  },
  {
   "cell_type": "code",
   "execution_count": 11,
   "metadata": {},
   "outputs": [
    {
     "data": {
      "image/png": "[encoded data removed]",
      "text/plain": [
       "<Figure size 432x288 with 1 Axes>"
      ]
     },
     "metadata": {
      "needs_background": "light"
     },
     "output_type": "display_data"
    }
   ],
   "source": [
    "accuracies = [log['accuracy'] for log in logs]\n",
    "plt.plot(accuracies, '-x')\n",
    "plt.xlabel('epoch')\n",
    "plt.ylabel('accuracy')\n",
    "plt.xticks(range(epochs))\n",
    "plt.show();"
   ]
  },
  {
   "cell_type": "code",
   "execution_count": 12,
   "metadata": {},
   "outputs": [
    {
     "data": {
      "image/png": "[encoded data removed]",
      "text/plain": [
       "<Figure size 432x288 with 1 Axes>"
      ]
     },
     "metadata": {
      "needs_background": "light"
     },
     "output_type": "display_data"
    }
   ],
   "source": [
    "costs = [log['cost'] for log in logs]\n",
    "plt.plot(costs, '-x')\n",
    "plt.xlabel('epoch')\n",
    "plt.ylabel('cost')\n",
    "plt.xticks(range(epochs))\n",
    "plt.show();"
   ]
  },
  {
   "cell_type": "markdown",
   "metadata": {},
   "source": [
    "### 4.2 Predict on test set"
   ]
  },
  {
   "cell_type": "code",
   "execution_count": 13,
   "metadata": {},
   "outputs": [
    {
     "data": {
      "image/png": "[encoded data removed]",
      "text/plain": [
       "<Figure size 432x288 with 1 Axes>"
      ]
     },
     "metadata": {
      "needs_background": "light"
     },
     "output_type": "display_data"
    }
   ],
   "source": [
    "img, label = test_ds[10]\n",
    "plt.imshow(img[0], cmap='gray');"
   ]
  },
  {
   "cell_type": "code",
   "execution_count": 14,
   "metadata": {},
   "outputs": [
    {
     "name": "stdout",
     "output_type": "stream",
     "text": [
      "Label: 0, Predicted: 0\n"
     ]
    }
   ],
   "source": [
    "y_hat = model.predict(img)\n",
    "print('Label: {}, Predicted: {}'.format(label, y_hat.item()))"
   ]
  },
  {
   "cell_type": "markdown",
   "metadata": {},
   "source": [
    "### 4.3 Evaluation on test set"
   ]
  },
  {
   "cell_type": "code",
   "execution_count": 16,
   "metadata": {},
   "outputs": [
    {
     "name": "stdout",
     "output_type": "stream",
     "text": [
      "test cost = 0.65, test accuracy = 0.86\n"
     ]
    }
   ],
   "source": [
    "batch_evals = [model.evaluate_batch(batch) for batch in test_loader]\n",
    "test_eval = evaluate_epoch(batch_evals)\n",
    "print('test cost = {}, test accuracy = {}'.format(round(test_eval['cost'], 2), round(test_eval['accuracy'], 2)))"
   ]
  },
  {
   "cell_type": "markdown",
   "metadata": {},
   "source": [
    "## 5. Save model"
   ]
  },
  {
   "cell_type": "code",
   "execution_count": 17,
   "metadata": {},
   "outputs": [],
   "source": [
    "filename = 'mnist-logistic.pth'\n",
    "torch.save(model.state_dict(), filename)"
   ]
  },
  {
   "cell_type": "code",
   "execution_count": 18,
   "metadata": {},
   "outputs": [
    {
     "data": {
      "text/plain": [
       "OrderedDict([('linear.weight',\n",
       "              tensor([[-0.0356,  0.0076, -0.0235,  ...,  0.0072, -0.0130, -0.0282],\n",
       "                      [ 0.0167,  0.0208,  0.0107,  ...,  0.0055, -0.0215,  0.0074],\n",
       "                      [-0.0023, -0.0166,  0.0099,  ...,  0.0168,  0.0062,  0.0312],\n",
       "                      ...,\n",
       "                      [ 0.0036,  0.0062, -0.0164,  ...,  0.0096, -0.0159, -0.0025],\n",
       "                      [-0.0309,  0.0022,  0.0258,  ...,  0.0047, -0.0049,  0.0029],\n",
       "                      [-0.0135, -0.0162, -0.0189,  ...,  0.0116,  0.0132,  0.0275]])),\n",
       "             ('linear.bias',\n",
       "              tensor([ 0.0317, -0.0097, -0.0266, -0.0296, -0.0095, -0.0272, -0.0004,  0.0048,\n",
       "                       0.0022,  0.0084]))])"
      ]
     },
     "execution_count": 18,
     "metadata": {},
     "output_type": "execute_result"
    }
   ],
   "source": [
    "# initialize a new model\n",
    "model2 = MnistModel(in_features, out_classes)\n",
    "model2.state_dict()"
   ]
  },
  {
   "cell_type": "code",
   "execution_count": 20,
   "metadata": {},
   "outputs": [
    {
     "data": {
      "text/plain": [
       "OrderedDict([('linear.weight',\n",
       "              tensor([[-0.0086, -0.0295,  0.0024,  ..., -0.0197, -0.0337,  0.0293],\n",
       "                      [ 0.0309, -0.0322,  0.0288,  ...,  0.0090,  0.0194,  0.0114],\n",
       "                      [-0.0257,  0.0327, -0.0148,  ..., -0.0102,  0.0200,  0.0042],\n",
       "                      ...,\n",
       "                      [ 0.0227, -0.0225, -0.0296,  ..., -0.0145,  0.0277,  0.0164],\n",
       "                      [ 0.0054, -0.0311, -0.0038,  ..., -0.0273,  0.0130,  0.0025],\n",
       "                      [-0.0125, -0.0234,  0.0332,  ..., -0.0282, -0.0158, -0.0023]])),\n",
       "             ('linear.bias',\n",
       "              tensor([-0.0438,  0.0726, -0.0057, -0.0212,  0.0006,  0.0546, -0.0323,  0.0541,\n",
       "                      -0.0732, -0.0411]))])"
      ]
     },
     "execution_count": 20,
     "metadata": {},
     "output_type": "execute_result"
    }
   ],
   "source": [
    "# load model from file\n",
    "model2.load_state_dict(torch.load(filename))\n",
    "model2.state_dict()"
   ]
  },
  {
   "cell_type": "code",
   "execution_count": null,
   "metadata": {},
   "outputs": [],
   "source": []
  }
 ],
 "metadata": {
  "kernelspec": {
   "display_name": "Python 3",
   "language": "python",
   "name": "python3"
  },
  "language_info": {
   "codemirror_mode": {
    "name": "ipython",
    "version": 3
   },
   "file_extension": ".py",
   "mimetype": "text/x-python",
   "name": "python",
   "nbconvert_exporter": "python",
   "pygments_lexer": "ipython3",
   "version": "3.8.2"
  }
 },
 "nbformat": 4,
 "nbformat_minor": 4
}
