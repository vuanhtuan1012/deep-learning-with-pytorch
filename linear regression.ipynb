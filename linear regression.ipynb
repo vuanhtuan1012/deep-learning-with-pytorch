{
 "cells": [
  {
   "cell_type": "markdown",
   "metadata": {},
   "source": [
    "# Linear Regression"
   ]
  },
  {
   "cell_type": "markdown",
   "metadata": {},
   "source": [
    "This notebook shows how to train a linear regression model in PyTorch in two ways:\n",
    "- from scratch, functions are built manually.\n",
    "- using PyTorch built-ins function."
   ]
  },
  {
   "cell_type": "markdown",
   "metadata": {},
   "source": [
    "## 1. Linear Regression from scratch"
   ]
  },
  {
   "cell_type": "code",
   "execution_count": 1,
   "metadata": {},
   "outputs": [],
   "source": [
    "import numpy as np\n",
    "import torch"
   ]
  },
  {
   "cell_type": "markdown",
   "metadata": {},
   "source": [
    "### 1.1. Data"
   ]
  },
  {
   "cell_type": "code",
   "execution_count": 2,
   "metadata": {},
   "outputs": [],
   "source": [
    "# inputs\n",
    "inputs = np.array([[73, 67, 43], \n",
    "              [91, 88, 64], \n",
    "              [87, 134, 58], \n",
    "              [102, 43, 37], \n",
    "              [69, 96, 70]], dtype='float32')\n",
    "\n",
    "# targets\n",
    "targets = np.array([[56, 70], \n",
    "              [81, 101], \n",
    "              [119, 133], \n",
    "              [22, 37], \n",
    "              [103, 119]], dtype='float32')\n",
    "\n",
    "# convert inputs and targets to tensors\n",
    "X = torch.from_numpy(inputs)\n",
    "Y = torch.from_numpy(targets)"
   ]
  },
  {
   "cell_type": "markdown",
   "metadata": {},
   "source": [
    "### 1.2. Initialize parameters"
   ]
  },
  {
   "cell_type": "code",
   "execution_count": 3,
   "metadata": {},
   "outputs": [
    {
     "name": "stdout",
     "output_type": "stream",
     "text": [
      "number of samples: 5\n",
      "number of features: 3\n",
      "number of outputs: 2\n"
     ]
    }
   ],
   "source": [
    "# get number of samples (m) and of features (n)\n",
    "m, n = X.shape\n",
    "print('number of samples: %s' % m)\n",
    "print('number of features: %s' % n)\n",
    "\n",
    "# get number of outputs (a)\n",
    "_, a = Y.shape\n",
    "print('number of outputs: %s' % a)"
   ]
  },
  {
   "cell_type": "code",
   "execution_count": 4,
   "metadata": {},
   "outputs": [],
   "source": [
    "# initialize parameters\n",
    "W = torch.randn(a, n, requires_grad=True)  # weights\n",
    "b = torch.randn(a, requires_grad=True)  # bias"
   ]
  },
  {
   "cell_type": "markdown",
   "metadata": {},
   "source": [
    "### 1.3. Define functions"
   ]
  },
  {
   "cell_type": "markdown",
   "metadata": {},
   "source": [
    "#### 1.3.1. Hypothesis function / Model"
   ]
  },
  {
   "cell_type": "code",
   "execution_count": 5,
   "metadata": {},
   "outputs": [],
   "source": [
    "def model(X, W, b):\n",
    "    Y_hat = X @ W.t() + b\n",
    "    return Y_hat"
   ]
  },
  {
   "cell_type": "markdown",
   "metadata": {},
   "source": [
    "#### 1.3.2. Cost function / Loss function"
   ]
  },
  {
   "cell_type": "code",
   "execution_count": 6,
   "metadata": {},
   "outputs": [],
   "source": [
    "def cost_fn(Y_hat, Y):\n",
    "    diff = Y_hat - Y\n",
    "    return torch.sum(diff * diff)/diff.numel()"
   ]
  },
  {
   "cell_type": "markdown",
   "metadata": {},
   "source": [
    "### 1.4. Train the model using gradient descent"
   ]
  },
  {
   "cell_type": "code",
   "execution_count": 7,
   "metadata": {},
   "outputs": [
    {
     "name": "stderr",
     "output_type": "stream",
     "text": [
      "/home/tuanva/.local/lib/python3.8/site-packages/torch/autograd/__init__.py:130: UserWarning: CUDA initialization: Found no NVIDIA driver on your system. Please check that you have an NVIDIA GPU and installed a driver from http://www.nvidia.com/Download/index.aspx (Triggered internally at  /pytorch/c10/cuda/CUDAFunctions.cpp:100.)\n",
      "  Variable._execution_engine.run_backward(\n"
     ]
    }
   ],
   "source": [
    "epochs = 100  # define number of iteration\n",
    "lr = 1e-5  # learning rate\n",
    "for i in range(epochs):\n",
    "    Y_hat = model(X, W, b)\n",
    "    cost = cost_fn(Y_hat, Y)\n",
    "    cost.backward()\n",
    "    with torch.no_grad():\n",
    "        W -= W.grad * lr\n",
    "        b -= b.grad * lr\n",
    "        W.grad.zero_()\n",
    "        b.grad.zero_()"
   ]
  },
  {
   "cell_type": "markdown",
   "metadata": {},
   "source": [
    "### 1.5. Predict"
   ]
  },
  {
   "cell_type": "code",
   "execution_count": 8,
   "metadata": {},
   "outputs": [
    {
     "name": "stdout",
     "output_type": "stream",
     "text": [
      "tensor([[55.2381, 68.8495]], grad_fn=<AddBackward0>)\n"
     ]
    }
   ],
   "source": [
    "x = torch.tensor([[75, 63, 44.]])\n",
    "y_hat = model(x, W, b)\n",
    "print(y_hat)"
   ]
  },
  {
   "cell_type": "markdown",
   "metadata": {},
   "source": [
    "## 2. Linear Regression using PyTorch built-ins"
   ]
  },
  {
   "cell_type": "code",
   "execution_count": 9,
   "metadata": {},
   "outputs": [],
   "source": [
    "import torch.nn as nn\n",
    "from torch.utils.data import TensorDataset\n",
    "from torch.utils.data import DataLoader\n",
    "import torch.nn.functional as F"
   ]
  },
  {
   "cell_type": "markdown",
   "metadata": {},
   "source": [
    "### 2.1 Data"
   ]
  },
  {
   "cell_type": "code",
   "execution_count": 10,
   "metadata": {},
   "outputs": [],
   "source": [
    "# inputs\n",
    "inputs = np.array([[73, 67, 43], \n",
    "              [91, 88, 64], \n",
    "              [87, 134, 58], \n",
    "              [102, 43, 37], \n",
    "              [69, 96, 70], \n",
    "              [74, 66, 43], \n",
    "              [91, 87, 65], \n",
    "              [88, 134, 59], \n",
    "              [101, 44, 37], \n",
    "              [68, 96, 71], \n",
    "              [73, 66, 44], \n",
    "              [92, 87, 64], \n",
    "              [87, 135, 57], \n",
    "              [103, 43, 36], \n",
    "              [68, 97, 70]], dtype='float32')\n",
    "\n",
    "# targets\n",
    "targets = np.array([[56, 70], \n",
    "              [81, 101], \n",
    "              [119, 133], \n",
    "              [22, 37], \n",
    "              [103, 119],\n",
    "              [57, 69], \n",
    "              [80, 102], \n",
    "              [118, 132], \n",
    "              [21, 38], \n",
    "              [104, 118], \n",
    "              [57, 69], \n",
    "              [82, 100], \n",
    "              [118, 134], \n",
    "              [20, 38], \n",
    "              [102, 120]], dtype='float32')\n",
    "\n",
    "# convert to tensors\n",
    "X = torch.from_numpy(inputs)\n",
    "Y = torch.from_numpy(targets)"
   ]
  },
  {
   "cell_type": "code",
   "execution_count": 11,
   "metadata": {},
   "outputs": [],
   "source": [
    "# define dataset\n",
    "dataset = TensorDataset(X, Y)"
   ]
  },
  {
   "cell_type": "code",
   "execution_count": 12,
   "metadata": {},
   "outputs": [],
   "source": [
    "# define data loader\n",
    "batch_size = 5\n",
    "dataloader = DataLoader(dataset, batch_size, shuffle=True)"
   ]
  },
  {
   "cell_type": "code",
   "execution_count": 25,
   "metadata": {},
   "outputs": [
    {
     "name": "stdout",
     "output_type": "stream",
     "text": [
      "[tensor([[101.,  44.,  37.],\n",
      "        [ 88., 134.,  59.],\n",
      "        [ 91.,  88.,  64.],\n",
      "        [102.,  43.,  37.],\n",
      "        [ 92.,  87.,  64.]]), tensor([[ 21.,  38.],\n",
      "        [118., 132.],\n",
      "        [ 81., 101.],\n",
      "        [ 22.,  37.],\n",
      "        [ 82., 100.]])]\n",
      "\n",
      "\n",
      "tensor([[101.,  44.,  37.],\n",
      "        [ 88., 134.,  59.],\n",
      "        [ 91.,  88.,  64.],\n",
      "        [102.,  43.,  37.],\n",
      "        [ 92.,  87.,  64.]])\n",
      "tensor([[ 21.,  38.],\n",
      "        [118., 132.],\n",
      "        [ 81., 101.],\n",
      "        [ 22.,  37.],\n",
      "        [ 82., 100.]])\n",
      "\n",
      "\n",
      "torch.Size([5, 3])\n",
      "torch.Size([5, 2])\n"
     ]
    }
   ],
   "source": [
    "for batch in dataloader:\n",
    "    print(batch)\n",
    "    print('\\n')\n",
    "    xs, ys = batch\n",
    "    print(xs)\n",
    "    print(ys)\n",
    "    print('\\n')\n",
    "    print(xs.shape)\n",
    "    print(ys.shape)\n",
    "    break;"
   ]
  },
  {
   "cell_type": "markdown",
   "metadata": {},
   "source": [
    "### 2.2 Define functions"
   ]
  },
  {
   "cell_type": "markdown",
   "metadata": {},
   "source": [
    "#### 2.2.1 Hypothesis function / Model"
   ]
  },
  {
   "cell_type": "code",
   "execution_count": 26,
   "metadata": {},
   "outputs": [
    {
     "name": "stdout",
     "output_type": "stream",
     "text": [
      "Parameter containing:\n",
      "tensor([[-0.0591, -0.0670,  0.0513],\n",
      "        [ 0.0832,  0.0762,  0.1309]], requires_grad=True)\n",
      "Parameter containing:\n",
      "tensor([ 0.2436, -0.5457], requires_grad=True)\n",
      "[Parameter containing:\n",
      "tensor([[-0.0591, -0.0670,  0.0513],\n",
      "        [ 0.0832,  0.0762,  0.1309]], requires_grad=True), Parameter containing:\n",
      "tensor([ 0.2436, -0.5457], requires_grad=True)]\n"
     ]
    }
   ],
   "source": [
    "# get number of samples (m) and of features (n)\n",
    "m, n = X.shape\n",
    "\n",
    "# get number of outputs\n",
    "_, a = Y.shape\n",
    "\n",
    "# define hypothesis function\n",
    "model = nn.Linear(n, a)\n",
    "\n",
    "print(model.weight)\n",
    "print(model.bias)\n",
    "print(list(model.parameters()))"
   ]
  },
  {
   "cell_type": "markdown",
   "metadata": {},
   "source": [
    "#### 2.2.2 Cost function / Loss function"
   ]
  },
  {
   "cell_type": "code",
   "execution_count": 27,
   "metadata": {},
   "outputs": [],
   "source": [
    "cost_fn = F.mse_loss"
   ]
  },
  {
   "cell_type": "markdown",
   "metadata": {},
   "source": [
    "#### 2.2.3 Optimizer"
   ]
  },
  {
   "cell_type": "code",
   "execution_count": 28,
   "metadata": {},
   "outputs": [],
   "source": [
    "opt = torch.optim.SGD(model.parameters(), lr=1e-5)"
   ]
  },
  {
   "cell_type": "markdown",
   "metadata": {},
   "source": [
    "### 2.3 Train the model"
   ]
  },
  {
   "cell_type": "code",
   "execution_count": 29,
   "metadata": {},
   "outputs": [],
   "source": [
    "def fit(epochs, model, cost_fn, opt, dataloader):\n",
    "    for epoch in range(epochs):\n",
    "        for xs, ys in dataloader:\n",
    "            ys_hat = model(xs)  # predict\n",
    "            cost = cost_fn(ys_hat, ys)  # compute cost\n",
    "            cost.backward()  # compute gradients\n",
    "            opt.step()  # optimize parameters, gradient descent\n",
    "            opt.zero_grad()  # reset gradients to 0\n",
    "        if (epoch+1) % 10 == 0:\n",
    "            print('epoch {}/{}, cost: {:.4f}'.format(epoch+1, epochs, cost.item()))"
   ]
  },
  {
   "cell_type": "code",
   "execution_count": 30,
   "metadata": {},
   "outputs": [
    {
     "name": "stdout",
     "output_type": "stream",
     "text": [
      "epoch 10/100, cost: 345.8451\n",
      "epoch 20/100, cost: 217.3510\n",
      "epoch 30/100, cost: 139.1735\n",
      "epoch 40/100, cost: 8.7400\n",
      "epoch 50/100, cost: 141.9800\n",
      "epoch 60/100, cost: 57.5990\n",
      "epoch 70/100, cost: 59.6549\n",
      "epoch 80/100, cost: 45.3930\n",
      "epoch 90/100, cost: 25.8473\n",
      "epoch 100/100, cost: 23.6790\n"
     ]
    }
   ],
   "source": [
    "fit(100, model, cost_fn, opt, dataloader)"
   ]
  },
  {
   "cell_type": "markdown",
   "metadata": {},
   "source": [
    "### 2.4 Predict"
   ]
  },
  {
   "cell_type": "code",
   "execution_count": 31,
   "metadata": {},
   "outputs": [
    {
     "name": "stdout",
     "output_type": "stream",
     "text": [
      "tensor([[54.8035, 68.4162]], grad_fn=<AddmmBackward>)\n"
     ]
    }
   ],
   "source": [
    "x = torch.tensor([[75, 63, 44.]])\n",
    "y_hat = model(x)\n",
    "print(y_hat)"
   ]
  },
  {
   "cell_type": "code",
   "execution_count": null,
   "metadata": {},
   "outputs": [],
   "source": []
  }
 ],
 "metadata": {
  "kernelspec": {
   "display_name": "Python 3",
   "language": "python",
   "name": "python3"
  },
  "language_info": {
   "codemirror_mode": {
    "name": "ipython",
    "version": 3
   },
   "file_extension": ".py",
   "mimetype": "text/x-python",
   "name": "python",
   "nbconvert_exporter": "python",
   "pygments_lexer": "ipython3",
   "version": "3.8.2"
  }
 },
 "nbformat": 4,
 "nbformat_minor": 4
}
