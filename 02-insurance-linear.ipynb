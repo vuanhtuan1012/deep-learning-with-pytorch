{
 "cells": [
  {
   "cell_type": "markdown",
   "metadata": {},
   "source": [
    "# Insurance cost prediction using linear regression\n",
    "\n",
    "In this assignment we're going to use information like a person's age, sex, BMI, no. of children and smoking habit to **predict the price of yearly medical bills**. This kind of model is useful for insurance companies to determine the yearly insurance premium for a person. The dataset for this problem is taken from [Kaggle](https://www.kaggle.com/mirichoi0218/insurance)."
   ]
  },
  {
   "cell_type": "markdown",
   "metadata": {},
   "source": [
    "## Libraries"
   ]
  },
  {
   "cell_type": "code",
   "execution_count": 1,
   "metadata": {},
   "outputs": [],
   "source": [
    "import torch\n",
    "import torchvision\n",
    "from torchvision.datasets.utils import download_url\n",
    "import torch.nn as nn\n",
    "import torch.nn.functional as F\n",
    "from torch.utils.data import DataLoader, TensorDataset, random_split\n",
    "import pandas as pd\n",
    "import matplotlib.pyplot as plt"
   ]
  },
  {
   "cell_type": "markdown",
   "metadata": {},
   "source": [
    "## Download Data"
   ]
  },
  {
   "cell_type": "code",
   "execution_count": 2,
   "metadata": {},
   "outputs": [
    {
     "name": "stdout",
     "output_type": "stream",
     "text": [
      "Using downloaded and verified file: ./insurance.csv\n"
     ]
    }
   ],
   "source": [
    "DATASET_URL = \"https://raw.githubusercontent.com/stedy/Machine-Learning-with-R-datasets/master/insurance.csv\"\n",
    "DATA_FILENAME = \"insurance.csv\"\n",
    "download_url(DATASET_URL, '.')"
   ]
  },
  {
   "cell_type": "code",
   "execution_count": 3,
   "metadata": {},
   "outputs": [
    {
     "data": {
      "text/html": [
       "<div>\n",
       "<style scoped>\n",
       "    .dataframe tbody tr th:only-of-type {\n",
       "        vertical-align: middle;\n",
       "    }\n",
       "\n",
       "    .dataframe tbody tr th {\n",
       "        vertical-align: top;\n",
       "    }\n",
       "\n",
       "    .dataframe thead th {\n",
       "        text-align: right;\n",
       "    }\n",
       "</style>\n",
       "<table border=\"1\" class=\"dataframe\">\n",
       "  <thead>\n",
       "    <tr style=\"text-align: right;\">\n",
       "      <th></th>\n",
       "      <th>age</th>\n",
       "      <th>sex</th>\n",
       "      <th>bmi</th>\n",
       "      <th>children</th>\n",
       "      <th>smoker</th>\n",
       "      <th>region</th>\n",
       "      <th>charges</th>\n",
       "    </tr>\n",
       "  </thead>\n",
       "  <tbody>\n",
       "    <tr>\n",
       "      <th>0</th>\n",
       "      <td>19</td>\n",
       "      <td>female</td>\n",
       "      <td>27.900</td>\n",
       "      <td>0</td>\n",
       "      <td>yes</td>\n",
       "      <td>southwest</td>\n",
       "      <td>16884.92400</td>\n",
       "    </tr>\n",
       "    <tr>\n",
       "      <th>1</th>\n",
       "      <td>18</td>\n",
       "      <td>male</td>\n",
       "      <td>33.770</td>\n",
       "      <td>1</td>\n",
       "      <td>no</td>\n",
       "      <td>southeast</td>\n",
       "      <td>1725.55230</td>\n",
       "    </tr>\n",
       "    <tr>\n",
       "      <th>2</th>\n",
       "      <td>28</td>\n",
       "      <td>male</td>\n",
       "      <td>33.000</td>\n",
       "      <td>3</td>\n",
       "      <td>no</td>\n",
       "      <td>southeast</td>\n",
       "      <td>4449.46200</td>\n",
       "    </tr>\n",
       "    <tr>\n",
       "      <th>3</th>\n",
       "      <td>33</td>\n",
       "      <td>male</td>\n",
       "      <td>22.705</td>\n",
       "      <td>0</td>\n",
       "      <td>no</td>\n",
       "      <td>northwest</td>\n",
       "      <td>21984.47061</td>\n",
       "    </tr>\n",
       "    <tr>\n",
       "      <th>4</th>\n",
       "      <td>32</td>\n",
       "      <td>male</td>\n",
       "      <td>28.880</td>\n",
       "      <td>0</td>\n",
       "      <td>no</td>\n",
       "      <td>northwest</td>\n",
       "      <td>3866.85520</td>\n",
       "    </tr>\n",
       "  </tbody>\n",
       "</table>\n",
       "</div>"
      ],
      "text/plain": [
       "   age     sex     bmi  children smoker     region      charges\n",
       "0   19  female  27.900         0    yes  southwest  16884.92400\n",
       "1   18    male  33.770         1     no  southeast   1725.55230\n",
       "2   28    male  33.000         3     no  southeast   4449.46200\n",
       "3   33    male  22.705         0     no  northwest  21984.47061\n",
       "4   32    male  28.880         0     no  northwest   3866.85520"
      ]
     },
     "execution_count": 3,
     "metadata": {},
     "output_type": "execute_result"
    }
   ],
   "source": [
    "df_raw = pd.read_csv(DATA_FILENAME)\n",
    "df_raw.head()"
   ]
  },
  {
   "cell_type": "code",
   "execution_count": 4,
   "metadata": {},
   "outputs": [],
   "source": [
    "def customize_dataset(df_raw, rand_str):\n",
    "    df = df_raw.copy(deep=True)\n",
    "    # drops some rows\n",
    "    df = df.sample(int(0.95*len(df)), random_state=int(ord(rand_str[0])))\n",
    "    # scale input\n",
    "    df.bmi = df.bmi * ord(rand_str[1])/100.\n",
    "    # scale target\n",
    "    df.charges = df.charges * ord(rand_str[2])/100.\n",
    "    # drop column\n",
    "    if ord(rand_str[3]) % 2 == 1:\n",
    "        df = df.drop(['region'], axis=1)\n",
    "    return df"
   ]
  },
  {
   "cell_type": "code",
   "execution_count": 5,
   "metadata": {},
   "outputs": [
    {
     "data": {
      "text/html": [
       "<div>\n",
       "<style scoped>\n",
       "    .dataframe tbody tr th:only-of-type {\n",
       "        vertical-align: middle;\n",
       "    }\n",
       "\n",
       "    .dataframe tbody tr th {\n",
       "        vertical-align: top;\n",
       "    }\n",
       "\n",
       "    .dataframe thead th {\n",
       "        text-align: right;\n",
       "    }\n",
       "</style>\n",
       "<table border=\"1\" class=\"dataframe\">\n",
       "  <thead>\n",
       "    <tr style=\"text-align: right;\">\n",
       "      <th></th>\n",
       "      <th>age</th>\n",
       "      <th>sex</th>\n",
       "      <th>bmi</th>\n",
       "      <th>children</th>\n",
       "      <th>smoker</th>\n",
       "      <th>charges</th>\n",
       "    </tr>\n",
       "  </thead>\n",
       "  <tbody>\n",
       "    <tr>\n",
       "      <th>27</th>\n",
       "      <td>55</td>\n",
       "      <td>female</td>\n",
       "      <td>36.0525</td>\n",
       "      <td>2</td>\n",
       "      <td>no</td>\n",
       "      <td>12759.377540</td>\n",
       "    </tr>\n",
       "    <tr>\n",
       "      <th>997</th>\n",
       "      <td>63</td>\n",
       "      <td>female</td>\n",
       "      <td>40.5350</td>\n",
       "      <td>0</td>\n",
       "      <td>no</td>\n",
       "      <td>14443.487240</td>\n",
       "    </tr>\n",
       "    <tr>\n",
       "      <th>162</th>\n",
       "      <td>54</td>\n",
       "      <td>male</td>\n",
       "      <td>43.5600</td>\n",
       "      <td>1</td>\n",
       "      <td>no</td>\n",
       "      <td>10868.574080</td>\n",
       "    </tr>\n",
       "    <tr>\n",
       "      <th>824</th>\n",
       "      <td>60</td>\n",
       "      <td>male</td>\n",
       "      <td>26.7520</td>\n",
       "      <td>0</td>\n",
       "      <td>no</td>\n",
       "      <td>13024.548992</td>\n",
       "    </tr>\n",
       "    <tr>\n",
       "      <th>392</th>\n",
       "      <td>48</td>\n",
       "      <td>male</td>\n",
       "      <td>34.5895</td>\n",
       "      <td>1</td>\n",
       "      <td>no</td>\n",
       "      <td>9322.622972</td>\n",
       "    </tr>\n",
       "  </tbody>\n",
       "</table>\n",
       "</div>"
      ],
      "text/plain": [
       "     age     sex      bmi  children smoker       charges\n",
       "27    55  female  36.0525         2     no  12759.377540\n",
       "997   63  female  40.5350         0     no  14443.487240\n",
       "162   54    male  43.5600         1     no  10868.574080\n",
       "824   60    male  26.7520         0     no  13024.548992\n",
       "392   48    male  34.5895         1     no   9322.622972"
      ]
     },
     "execution_count": 5,
     "metadata": {},
     "output_type": "execute_result"
    }
   ],
   "source": [
    "your_name = \"anh-tuan\"\n",
    "df = customize_dataset(df_raw, your_name)\n",
    "df.head()"
   ]
  },
  {
   "cell_type": "markdown",
   "metadata": {},
   "source": [
    "## Explorer Data"
   ]
  },
  {
   "cell_type": "code",
   "execution_count": 6,
   "metadata": {
    "scrolled": true
   },
   "outputs": [
    {
     "data": {
      "text/plain": [
       "(1271, 6)"
      ]
     },
     "execution_count": 6,
     "metadata": {},
     "output_type": "execute_result"
    }
   ],
   "source": [
    "df.shape"
   ]
  },
  {
   "cell_type": "code",
   "execution_count": 7,
   "metadata": {
    "scrolled": false
   },
   "outputs": [
    {
     "data": {
      "text/plain": [
       "count     1271.000000\n",
       "mean     13846.763118\n",
       "std      12656.316203\n",
       "min       1166.748856\n",
       "25%       4942.447536\n",
       "50%       9766.999840\n",
       "75%      17111.433326\n",
       "max      66321.245130\n",
       "Name: charges, dtype: float64"
      ]
     },
     "execution_count": 7,
     "metadata": {},
     "output_type": "execute_result"
    }
   ],
   "source": [
    "df['charges'].describe()"
   ]
  },
  {
   "cell_type": "code",
   "execution_count": 8,
   "metadata": {
    "scrolled": false
   },
   "outputs": [
    {
     "data": {
      "image/png": "[encoded data removed]",
      "text/plain": [
       "<Figure size 432x288 with 1 Axes>"
      ]
     },
     "metadata": {
      "needs_background": "light"
     },
     "output_type": "display_data"
    }
   ],
   "source": [
    "plt.hist(df.charges);"
   ]
  },
  {
   "cell_type": "markdown",
   "metadata": {},
   "source": [
    "## Prepare Data For Training"
   ]
  },
  {
   "cell_type": "code",
   "execution_count": 9,
   "metadata": {},
   "outputs": [],
   "source": [
    "def df_to_arrays(df, input_cols, cat_cols, output_cols):\n",
    "    # make a copy of the original dataframe\n",
    "    df1 = df.copy(deep=True)\n",
    "    # convert non-numeric categorical columns to numbers\n",
    "    for col in cat_cols:\n",
    "        df1[col] = df1[col].astype('category').cat.codes\n",
    "    # extract input & output arrays as numpy arrays\n",
    "    inputs_array = df1[input_cols].to_numpy()\n",
    "    targets_array = df1[output_cols].to_numpy()\n",
    "    return inputs_array, targets_array"
   ]
  },
  {
   "cell_type": "code",
   "execution_count": 10,
   "metadata": {},
   "outputs": [],
   "source": [
    "input_cols = ['age', 'sex', 'bmi', 'children', 'smoker']\n",
    "cat_cols = ['sex', 'smoker']\n",
    "output_cols = ['charges']"
   ]
  },
  {
   "cell_type": "code",
   "execution_count": 11,
   "metadata": {},
   "outputs": [
    {
     "data": {
      "text/plain": [
       "(array([[55.    ,  0.    , 36.0525,  2.    ,  0.    ],\n",
       "        [63.    ,  0.    , 40.535 ,  0.    ,  0.    ],\n",
       "        [54.    ,  1.    , 43.56  ,  1.    ,  0.    ],\n",
       "        ...,\n",
       "        [58.    ,  1.    , 35.211 ,  1.    ,  0.    ],\n",
       "        [32.    ,  0.    , 48.642 ,  0.    ,  0.    ],\n",
       "        [35.    ,  1.    , 19.646 ,  1.    ,  0.    ]]),\n",
       " array([[12759.37754 ],\n",
       "        [14443.48724 ],\n",
       "        [10868.57408 ],\n",
       "        ...,\n",
       "        [12424.490936],\n",
       "        [ 4153.944912],\n",
       "        [ 5321.160416]]))"
      ]
     },
     "execution_count": 11,
     "metadata": {},
     "output_type": "execute_result"
    }
   ],
   "source": [
    "inputs, targets = df_to_arrays(df, input_cols, cat_cols, output_cols)\n",
    "inputs, targets"
   ]
  },
  {
   "cell_type": "code",
   "execution_count": 12,
   "metadata": {},
   "outputs": [
    {
     "data": {
      "text/plain": [
       "(torch.float32, torch.float32)"
      ]
     },
     "execution_count": 12,
     "metadata": {},
     "output_type": "execute_result"
    }
   ],
   "source": [
    "X = torch.from_numpy(inputs.astype('float32'))\n",
    "Y = torch.from_numpy(targets.astype('float32'))\n",
    "X.dtype, Y.dtype"
   ]
  },
  {
   "cell_type": "code",
   "execution_count": 13,
   "metadata": {},
   "outputs": [
    {
     "name": "stdout",
     "output_type": "stream",
     "text": [
      "ds_size = 1271: train_size = 1081, val_size = 190\n"
     ]
    }
   ],
   "source": [
    "val_percent = 0.15\n",
    "ds_size = X.shape[0]\n",
    "val_size = int(ds_size*val_percent)\n",
    "train_size = ds_size - val_size\n",
    "print(\"ds_size = {}: train_size = {}, val_size = {}\".format(ds_size, train_size, val_size))"
   ]
  },
  {
   "cell_type": "code",
   "execution_count": 14,
   "metadata": {},
   "outputs": [],
   "source": [
    "dataset = TensorDataset(X, Y)\n",
    "train_ds, val_ds = random_split(dataset, [train_size, val_size])"
   ]
  },
  {
   "cell_type": "code",
   "execution_count": 15,
   "metadata": {},
   "outputs": [],
   "source": [
    "batch_size = 95\n",
    "train_loader = DataLoader(train_ds, batch_size*2, shuffle=True)\n",
    "val_loader = DataLoader(val_ds, batch_size)"
   ]
  },
  {
   "cell_type": "code",
   "execution_count": 16,
   "metadata": {},
   "outputs": [
    {
     "name": "stdout",
     "output_type": "stream",
     "text": [
      "tensor([[51.0000,  0.0000, 40.7550,  3.0000,  1.0000],\n",
      "        [47.0000,  1.0000, 39.8090,  0.0000,  1.0000],\n",
      "        [18.0000,  0.0000, 23.8260,  0.0000,  1.0000],\n",
      "        [25.0000,  0.0000, 22.8800,  1.0000,  0.0000],\n",
      "        [56.0000,  0.0000, 46.1010,  0.0000,  0.0000],\n",
      "        [21.0000,  0.0000, 24.3485,  0.0000,  0.0000],\n",
      "        [19.0000,  1.0000, 30.3600,  0.0000,  0.0000],\n",
      "        [59.0000,  1.0000, 45.2540,  1.0000,  1.0000],\n",
      "        [64.0000,  0.0000, 34.4300,  2.0000,  1.0000],\n",
      "        [61.0000,  1.0000, 26.0205,  0.0000,  0.0000],\n",
      "        [57.0000,  0.0000, 26.3780,  1.0000,  0.0000],\n",
      "        [37.0000,  1.0000, 32.8130,  2.0000,  0.0000],\n",
      "        [38.0000,  1.0000, 30.8275,  1.0000,  0.0000],\n",
      "        [38.0000,  0.0000, 30.3600,  0.0000,  0.0000],\n",
      "        [53.0000,  0.0000, 29.2600,  0.0000,  0.0000],\n",
      "        [32.0000,  0.0000, 32.7800,  2.0000,  0.0000],\n",
      "        [36.0000,  1.0000, 31.4545,  3.0000,  0.0000],\n",
      "        [53.0000,  1.0000, 37.5155,  0.0000,  1.0000],\n",
      "        [43.0000,  1.0000, 33.1265,  3.0000,  0.0000],\n",
      "        [18.0000,  0.0000, 46.4640,  0.0000,  1.0000],\n",
      "        [27.0000,  0.0000, 33.6490,  1.0000,  0.0000],\n",
      "        [47.0000,  0.0000, 30.6130,  0.0000,  1.0000],\n",
      "        [19.0000,  1.0000, 31.2400,  1.0000,  0.0000],\n",
      "        [28.0000,  0.0000, 41.3820,  1.0000,  0.0000],\n",
      "        [49.0000,  1.0000, 39.4460,  0.0000,  0.0000],\n",
      "        [41.0000,  1.0000, 31.6800,  1.0000,  0.0000],\n",
      "        [37.0000,  0.0000, 19.0190,  2.0000,  0.0000],\n",
      "        [54.0000,  0.0000, 33.8800,  3.0000,  0.0000],\n",
      "        [23.0000,  1.0000, 38.7200,  1.0000,  0.0000],\n",
      "        [28.0000,  0.0000, 38.2470,  0.0000,  0.0000],\n",
      "        [28.0000,  1.0000, 32.1860,  2.0000,  0.0000],\n",
      "        [36.0000,  1.0000, 32.6700,  0.0000,  0.0000],\n",
      "        [54.0000,  0.0000, 35.5300,  1.0000,  0.0000],\n",
      "        [60.0000,  1.0000, 34.4850,  3.0000,  1.0000],\n",
      "        [22.0000,  0.0000, 22.2585,  0.0000,  0.0000],\n",
      "        [19.0000,  0.0000, 31.2400,  1.0000,  0.0000],\n",
      "        [40.0000,  1.0000, 32.8900,  2.0000,  0.0000],\n",
      "        [28.0000,  0.0000, 28.5285,  1.0000,  0.0000],\n",
      "        [62.0000,  0.0000, 32.9120,  0.0000,  0.0000],\n",
      "        [38.0000,  1.0000, 30.6185,  2.0000,  0.0000],\n",
      "        [62.0000,  1.0000, 33.0220,  0.0000,  0.0000],\n",
      "        [29.0000,  0.0000, 24.0350,  0.0000,  1.0000],\n",
      "        [56.0000,  1.0000, 35.3210,  1.0000,  0.0000],\n",
      "        [53.0000,  0.0000, 43.5600,  1.0000,  0.0000],\n",
      "        [18.0000,  0.0000, 30.0080,  3.0000,  1.0000],\n",
      "        [58.0000,  0.0000, 36.7840,  0.0000,  0.0000],\n",
      "        [21.0000,  0.0000, 39.2920,  0.0000,  0.0000],\n",
      "        [27.0000,  1.0000, 34.2430,  1.0000,  1.0000],\n",
      "        [54.0000,  1.0000, 33.2310,  0.0000,  0.0000],\n",
      "        [52.0000,  0.0000, 41.2775,  2.0000,  0.0000],\n",
      "        [23.0000,  1.0000, 35.9700,  3.0000,  0.0000],\n",
      "        [38.0000,  0.0000, 44.1650,  0.0000,  0.0000],\n",
      "        [55.0000,  0.0000, 29.6780,  0.0000,  0.0000],\n",
      "        [40.0000,  0.0000, 30.9320,  1.0000,  1.0000],\n",
      "        [50.0000,  1.0000, 35.5300,  2.0000,  0.0000],\n",
      "        [50.0000,  1.0000, 29.0510,  0.0000,  0.0000],\n",
      "        [47.0000,  0.0000, 28.7375,  1.0000,  1.0000],\n",
      "        [26.0000,  0.0000, 32.2905,  2.0000,  0.0000],\n",
      "        [19.0000,  0.0000, 33.6490,  2.0000,  0.0000],\n",
      "        [32.0000,  0.0000, 48.6420,  0.0000,  0.0000],\n",
      "        [20.0000,  0.0000, 35.1120,  0.0000,  0.0000],\n",
      "        [26.0000,  0.0000, 32.9120,  2.0000,  0.0000],\n",
      "        [28.0000,  1.0000, 40.0400,  1.0000,  1.0000],\n",
      "        [57.0000,  1.0000, 31.8725,  0.0000,  1.0000],\n",
      "        [23.0000,  0.0000, 31.3390,  1.0000,  1.0000],\n",
      "        [22.0000,  1.0000, 37.1470,  0.0000,  0.0000],\n",
      "        [32.0000,  1.0000, 30.9320,  4.0000,  1.0000],\n",
      "        [28.0000,  0.0000, 28.9465,  3.0000,  0.0000],\n",
      "        [19.0000,  1.0000, 22.4675,  0.0000,  0.0000],\n",
      "        [32.0000,  1.0000, 34.6500,  1.0000,  0.0000],\n",
      "        [19.0000,  0.0000, 35.7390,  0.0000,  1.0000],\n",
      "        [61.0000,  0.0000, 40.0235,  1.0000,  1.0000],\n",
      "        [18.0000,  1.0000, 26.1250,  0.0000,  0.0000],\n",
      "        [41.0000,  1.0000, 23.9580,  1.0000,  0.0000],\n",
      "        [31.0000,  1.0000, 28.4900,  3.0000,  1.0000],\n",
      "        [22.0000,  1.0000, 57.8380,  1.0000,  1.0000],\n",
      "        [29.0000,  1.0000, 41.0190,  2.0000,  0.0000],\n",
      "        [19.0000,  0.0000, 31.7680,  0.0000,  1.0000],\n",
      "        [18.0000,  0.0000, 35.3320,  2.0000,  0.0000],\n",
      "        [31.0000,  0.0000, 36.0525,  2.0000,  0.0000],\n",
      "        [19.0000,  0.0000, 31.1300,  0.0000,  1.0000],\n",
      "        [54.0000,  1.0000, 37.6310,  2.0000,  1.0000],\n",
      "        [20.0000,  1.0000, 35.6345,  1.0000,  0.0000],\n",
      "        [49.0000,  0.0000, 46.9480,  2.0000,  0.0000],\n",
      "        [18.0000,  0.0000, 42.1080,  0.0000,  0.0000],\n",
      "        [63.0000,  0.0000, 23.8260,  0.0000,  0.0000],\n",
      "        [48.0000,  0.0000, 35.4530,  1.0000,  0.0000],\n",
      "        [43.0000,  0.0000, 22.0495,  2.0000,  1.0000],\n",
      "        [40.0000,  0.0000, 30.1400,  1.0000,  0.0000],\n",
      "        [44.0000,  0.0000, 32.7910,  2.0000,  0.0000],\n",
      "        [20.0000,  0.0000, 31.8725,  0.0000,  0.0000],\n",
      "        [61.0000,  1.0000, 36.8885,  0.0000,  0.0000],\n",
      "        [35.0000,  1.0000, 40.3370,  1.0000,  1.0000],\n",
      "        [18.0000,  1.0000, 34.8480,  2.0000,  1.0000],\n",
      "        [35.0000,  0.0000, 37.6310,  1.0000,  0.0000],\n",
      "        [28.0000,  0.0000, 36.7400,  0.0000,  0.0000],\n",
      "        [26.0000,  0.0000, 32.4280,  1.0000,  0.0000],\n",
      "        [62.0000,  0.0000, 36.5200,  0.0000,  0.0000],\n",
      "        [19.0000,  0.0000, 27.1700,  0.0000,  0.0000],\n",
      "        [64.0000,  0.0000, 33.1265,  3.0000,  0.0000],\n",
      "        [44.0000,  1.0000, 43.4720,  0.0000,  0.0000],\n",
      "        [63.0000,  1.0000, 34.5895,  0.0000,  0.0000],\n",
      "        [54.0000,  0.0000, 51.3700,  2.0000,  0.0000],\n",
      "        [20.0000,  1.0000, 44.5170,  0.0000,  0.0000],\n",
      "        [19.0000,  1.0000, 22.7700,  0.0000,  0.0000],\n",
      "        [49.0000,  1.0000, 31.5590,  3.0000,  0.0000],\n",
      "        [33.0000,  0.0000, 36.8500,  0.0000,  1.0000],\n",
      "        [18.0000,  0.0000, 36.4705,  0.0000,  0.0000],\n",
      "        [46.0000,  0.0000, 52.8770,  2.0000,  0.0000],\n",
      "        [24.0000,  1.0000, 32.8130,  0.0000,  1.0000],\n",
      "        [25.0000,  1.0000, 29.3645,  4.0000,  0.0000],\n",
      "        [61.0000,  1.0000, 31.1410,  1.0000,  1.0000],\n",
      "        [36.0000,  1.0000, 36.7400,  2.0000,  1.0000],\n",
      "        [20.0000,  0.0000, 40.7000,  5.0000,  0.0000],\n",
      "        [21.0000,  1.0000, 28.6330,  0.0000,  0.0000],\n",
      "        [57.0000,  0.0000, 24.4530,  0.0000,  0.0000],\n",
      "        [18.0000,  1.0000, 37.1470,  1.0000,  0.0000],\n",
      "        [49.0000,  1.0000, 35.5300,  3.0000,  0.0000],\n",
      "        [55.0000,  0.0000, 32.8130,  0.0000,  0.0000],\n",
      "        [44.0000,  1.0000, 35.2165,  2.0000,  0.0000],\n",
      "        [37.0000,  1.0000, 40.7770,  1.0000,  1.0000],\n",
      "        [27.0000,  1.0000, 50.4900,  2.0000,  0.0000],\n",
      "        [31.0000,  1.0000, 34.1715,  3.0000,  0.0000],\n",
      "        [26.0000,  1.0000, 32.0650,  1.0000,  0.0000],\n",
      "        [51.0000,  0.0000, 19.8550,  0.0000,  0.0000],\n",
      "        [33.0000,  1.0000, 30.2005,  2.0000,  0.0000],\n",
      "        [21.0000,  1.0000, 34.3805,  0.0000,  0.0000],\n",
      "        [38.0000,  0.0000, 44.6215,  1.0000,  0.0000],\n",
      "        [50.0000,  1.0000, 37.6200,  2.0000,  1.0000],\n",
      "        [30.0000,  1.0000, 30.4095,  1.0000,  0.0000],\n",
      "        [61.0000,  1.0000, 42.2180,  0.0000,  0.0000],\n",
      "        [18.0000,  1.0000, 36.8885,  0.0000,  1.0000],\n",
      "        [60.0000,  0.0000, 26.9830,  0.0000,  0.0000],\n",
      "        [29.0000,  1.0000, 25.1845,  0.0000,  1.0000],\n",
      "        [46.0000,  1.0000, 36.6795,  1.0000,  0.0000],\n",
      "        [41.0000,  1.0000, 44.2860,  0.0000,  0.0000],\n",
      "        [18.0000,  0.0000, 40.5350,  0.0000,  0.0000],\n",
      "        [41.0000,  1.0000, 37.6200,  2.0000,  0.0000],\n",
      "        [34.0000,  1.0000, 39.3965,  0.0000,  0.0000],\n",
      "        [19.0000,  1.0000, 27.6925,  0.0000,  0.0000],\n",
      "        [49.0000,  1.0000, 28.1600,  2.0000,  1.0000],\n",
      "        [50.0000,  1.0000, 35.5300,  1.0000,  1.0000],\n",
      "        [64.0000,  0.0000, 25.2890,  0.0000,  1.0000],\n",
      "        [26.0000,  0.0000, 31.6635,  0.0000,  0.0000],\n",
      "        [23.0000,  0.0000, 30.8000,  0.0000,  0.0000],\n",
      "        [33.0000,  0.0000, 29.3645,  0.0000,  0.0000],\n",
      "        [29.0000,  0.0000, 34.2760,  0.0000,  0.0000],\n",
      "        [49.0000,  0.0000, 26.2295,  3.0000,  1.0000],\n",
      "        [34.0000,  1.0000, 29.7000,  2.0000,  0.0000],\n",
      "        [48.0000,  1.0000, 32.5600,  0.0000,  0.0000],\n",
      "        [60.0000,  0.0000, 28.4240,  0.0000,  0.0000],\n",
      "        [36.0000,  0.0000, 31.9440,  4.0000,  0.0000],\n",
      "        [35.0000,  1.0000, 37.7520,  3.0000,  0.0000],\n",
      "        [44.0000,  1.0000, 34.4850,  1.0000,  1.0000],\n",
      "        [18.0000,  1.0000, 58.4430,  0.0000,  0.0000],\n",
      "        [59.0000,  1.0000, 30.2500,  1.0000,  0.0000],\n",
      "        [60.0000,  1.0000, 32.6040,  0.0000,  0.0000],\n",
      "        [19.0000,  0.0000, 33.0220,  0.0000,  1.0000],\n",
      "        [23.0000,  1.0000, 30.0960,  1.0000,  0.0000],\n",
      "        [64.0000,  0.0000, 42.9550,  3.0000,  0.0000],\n",
      "        [47.0000,  1.0000, 28.0060,  2.0000,  0.0000],\n",
      "        [48.0000,  1.0000, 41.0190,  2.0000,  0.0000],\n",
      "        [37.0000,  0.0000, 28.1105,  1.0000,  1.0000],\n",
      "        [21.0000,  0.0000, 36.9930,  2.0000,  0.0000],\n",
      "        [19.0000,  1.0000, 40.6505,  0.0000,  1.0000],\n",
      "        [32.0000,  0.0000, 31.8230,  0.0000,  0.0000],\n",
      "        [43.0000,  1.0000, 33.1100,  1.0000,  0.0000],\n",
      "        [51.0000,  0.0000, 43.4500,  1.0000,  0.0000],\n",
      "        [31.0000,  1.0000, 32.7910,  0.0000,  1.0000],\n",
      "        [37.0000,  1.0000, 32.6040,  0.0000,  0.0000],\n",
      "        [55.0000,  0.0000, 33.1540,  2.0000,  0.0000],\n",
      "        [45.0000,  1.0000, 26.7410,  5.0000,  0.0000],\n",
      "        [33.0000,  1.0000, 39.3250,  2.0000,  0.0000],\n",
      "        [62.0000,  1.0000, 35.2165,  0.0000,  1.0000],\n",
      "        [36.0000,  0.0000, 32.9120,  1.0000,  0.0000],\n",
      "        [18.0000,  1.0000, 32.3070,  1.0000,  0.0000],\n",
      "        [49.0000,  1.0000, 41.2610,  2.0000,  0.0000],\n",
      "        [31.0000,  0.0000, 25.9600,  2.0000,  0.0000],\n",
      "        [19.0000,  0.0000, 19.5800,  0.0000,  0.0000],\n",
      "        [57.0000,  1.0000, 30.9100,  0.0000,  0.0000],\n",
      "        [58.0000,  1.0000, 31.4545,  0.0000,  0.0000],\n",
      "        [53.0000,  0.0000, 30.9100,  3.0000,  0.0000],\n",
      "        [44.0000,  1.0000, 24.3485,  2.0000,  0.0000],\n",
      "        [19.0000,  0.0000, 33.5445,  0.0000,  0.0000],\n",
      "        [18.0000,  1.0000, 37.5100,  0.0000,  0.0000],\n",
      "        [31.0000,  1.0000, 43.4390,  1.0000,  0.0000],\n",
      "        [45.0000,  1.0000, 31.5700,  2.0000,  0.0000],\n",
      "        [41.0000,  0.0000, 30.8550,  1.0000,  0.0000],\n",
      "        [48.0000,  1.0000, 33.2200,  2.0000,  0.0000],\n",
      "        [18.0000,  0.0000, 44.3080,  0.0000,  0.0000]])\n",
      "tensor([[48105.3164],\n",
      "        [43343.1250],\n",
      "        [14854.7979],\n",
      "        [ 3337.1384],\n",
      "        [11537.3682],\n",
      "        [ 2689.2847],\n",
      "        [ 1302.5033],\n",
      "        [50929.0586],\n",
      "        [49182.6953],\n",
      "        [13654.7871],\n",
      "        [23080.1348],\n",
      "        [ 6662.6670],\n",
      "        [ 6309.8120],\n",
      "        [ 5598.8774],\n",
      "        [10769.8662],\n",
      "        [ 5358.2192],\n",
      "        [ 6810.1230],\n",
      "        [44984.5938],\n",
      "        [ 8746.4482],\n",
      "        [40344.3945],\n",
      "        [17468.2676],\n",
      "        [23988.0371],\n",
      "        [ 1916.2197],\n",
      "        [ 3917.5591],\n",
      "        [ 8449.3848],\n",
      "        [ 6533.5244],\n",
      "        [ 7153.0991],\n",
      "        [12589.5332],\n",
      "        [ 2513.6333],\n",
      "        [ 3699.1992],\n",
      "        [ 4615.7939],\n",
      "        [ 4575.7202],\n",
      "        [11972.9014],\n",
      "        [47975.7461],\n",
      "        [ 2628.9314],\n",
      "        [ 2424.7798],\n",
      "        [ 6864.3755],\n",
      "        [ 4298.9873],\n",
      "        [13996.2793],\n",
      "        [ 6714.0972],\n",
      "        [13886.1836],\n",
      "        [16759.9160],\n",
      "        [12233.5205],\n",
      "        [11002.8994],\n",
      "        [18952.3887],\n",
      "        [12720.8779],\n",
      "        [ 2500.9231],\n",
      "        [36198.7266],\n",
      "        [10640.7598],\n",
      "        [34810.8516],\n",
      "        [ 3735.1392],\n",
      "        [ 5617.0195],\n",
      "        [11525.8799],\n",
      "        [23224.8301],\n",
      "        [10015.6133],\n",
      "        [ 9180.2979],\n",
      "        [24337.3574],\n",
      "        [ 4746.7593],\n",
      "        [25022.0684],\n",
      "        [ 4153.9448],\n",
      "        [ 2352.0315],\n",
      "        [ 4141.2559],\n",
      "        [53242.3398],\n",
      "        [28307.1738],\n",
      "        [19061.3672],\n",
      "        [ 1741.6176],\n",
      "        [22331.3789],\n",
      "        [ 5524.6567],\n",
      "        [ 1690.4510],\n",
      "        [ 4239.5566],\n",
      "        [38374.6836],\n",
      "        [50458.2656],\n",
      "        [ 1773.8495],\n",
      "        [ 6523.3765],\n",
      "        [19967.9414],\n",
      "        [46281.4531],\n",
      "        [ 4220.4409],\n",
      "        [18458.4473],\n",
      "        [ 2913.3091],\n",
      "        [ 5540.4961],\n",
      "        [17764.3223],\n",
      "        [46031.1797],\n",
      "        [ 2456.7183],\n",
      "        [10192.9238],\n",
      "        [14698.3594],\n",
      "        [15027.8486],\n",
      "        [ 9225.9980],\n",
      "        [20589.9766],\n",
      "        [ 6756.7612],\n",
      "        [ 8547.9717],\n",
      "        [ 2347.7742],\n",
      "        [13669.0703],\n",
      "        [41365.2461],\n",
      "        [35675.2930],\n",
      "        [ 5455.0361],\n",
      "        [ 3298.8987],\n",
      "        [ 3528.0598],\n",
      "        [14001.0205],\n",
      "        [ 1806.8711],\n",
      "        [17113.9355],\n",
      "        [ 7226.6489],\n",
      "        [14533.4336],\n",
      "        [11999.9580],\n",
      "        [ 2063.8315],\n",
      "        [ 1292.5287],\n",
      "        [10675.0195],\n",
      "        [38562.5469],\n",
      "        [ 2296.0054],\n",
      "        [ 9810.2422],\n",
      "        [19394.3594],\n",
      "        [ 5073.1001],\n",
      "        [30023.4102],\n",
      "        [39952.0938],\n",
      "        [ 5023.8550],\n",
      "        [ 2186.3552],\n",
      "        [12510.4580],\n",
      "        [ 1794.5743],\n",
      "        [10680.2383],\n",
      "        [11738.0000],\n",
      "        [ 8440.9199],\n",
      "        [41466.5742],\n",
      "        [ 3841.1650],\n",
      "        [ 5642.0244],\n",
      "        [ 3019.0227],\n",
      "        [10030.0225],\n",
      "        [ 5471.9282],\n",
      "        [ 1985.9086],\n",
      "        [ 6628.4995],\n",
      "        [44571.1133],\n",
      "        [ 4406.6118],\n",
      "        [13468.0742],\n",
      "        [36002.5547],\n",
      "        [13135.0928],\n",
      "        [16784.3125],\n",
      "        [ 8667.8359],\n",
      "        [ 5937.5308],\n",
      "        [ 1695.0269],\n",
      "        [ 7552.2104],\n",
      "        [ 4493.2271],\n",
      "        [ 1697.3177],\n",
      "        [24238.8086],\n",
      "        [43595.8594],\n",
      "        [28119.4297],\n",
      "        [ 3520.8152],\n",
      "        [13651.7441],\n",
      "        [ 4754.2695],\n",
      "        [ 4101.3394],\n",
      "        [25071.1895],\n",
      "        [12207.3633],\n",
      "        [22081.4688],\n",
      "        [30080.0625],\n",
      "        [ 7533.5659],\n",
      "        [ 6171.7549],\n",
      "        [41138.7539],\n",
      "        [ 1210.0012],\n",
      "        [12827.1807],\n",
      "        [13240.2393],\n",
      "        [34639.8516],\n",
      "        [ 2900.6196],\n",
      "        [16728.5332],\n",
      "        [ 9594.2666],\n",
      "        [ 9337.3125],\n",
      "        [21108.7383],\n",
      "        [ 3723.0217],\n",
      "        [37668.1836],\n",
      "        [ 4131.8418],\n",
      "        [ 7122.9868],\n",
      "        [10275.2705],\n",
      "        [20124.3828],\n",
      "        [ 5229.2725],\n",
      "        [12357.2480],\n",
      "        [10180.4209],\n",
      "        [ 5085.5996],\n",
      "        [47538.6172],\n",
      "        [ 5697.1582],\n",
      "        [ 1788.2137],\n",
      "        [ 9676.8896],\n",
      "        [ 5128.9131],\n",
      "        [ 1796.8964],\n",
      "        [11404.0635],\n",
      "        [12205.3145],\n",
      "        [12211.3955],\n",
      "        [ 8634.6367],\n",
      "        [ 2213.5684],\n",
      "        [ 1182.4915],\n",
      "        [ 4030.7634],\n",
      "        [ 8349.0869],\n",
      "        [ 7041.0000],\n",
      "        [ 9327.0635],\n",
      "        [ 2306.3052]])\n"
     ]
    }
   ],
   "source": [
    "for batch in train_loader:\n",
    "    Xb, Yb = batch\n",
    "    print(Xb)\n",
    "    print(Yb)\n",
    "    break"
   ]
  },
  {
   "cell_type": "markdown",
   "metadata": {},
   "source": [
    "## Create a Linear Regression Model"
   ]
  },
  {
   "cell_type": "code",
   "execution_count": 17,
   "metadata": {},
   "outputs": [],
   "source": [
    "def normalize(X):\n",
    "    mn = X.min(dim=0)[0]\n",
    "    mx = X.max(dim=0)[0]\n",
    "    X = (X-mn)/(mx-mn)\n",
    "    return X"
   ]
  },
  {
   "cell_type": "code",
   "execution_count": 18,
   "metadata": {},
   "outputs": [],
   "source": [
    "class InsuranceModel(nn.Module):\n",
    "    def __init__(self, in_features, out_classes):\n",
    "        super().__init__()\n",
    "        self.linear = nn.Linear(in_features, out_classes)\n",
    "    \n",
    "    def forward(self, X):\n",
    "        Y_hat = self.linear(normalize(X))\n",
    "        return Y_hat\n",
    "    \n",
    "    def cost(self, batch):\n",
    "        X, Y = batch\n",
    "        Y_hat = self(X)\n",
    "        cost = F.mse_loss(Y_hat, Y)\n",
    "        return cost\n",
    "    \n",
    "    def evaluate(self, batch):\n",
    "        X, Y = batch\n",
    "        Y_hat = self(X)\n",
    "        cost = F.mse_loss(Y_hat.detach(), Y)\n",
    "        log = {'cost': cost}\n",
    "        return log"
   ]
  },
  {
   "cell_type": "markdown",
   "metadata": {},
   "source": [
    "## Train model"
   ]
  },
  {
   "cell_type": "code",
   "execution_count": 19,
   "metadata": {},
   "outputs": [],
   "source": [
    "def evaluate_epoch(batch_logs):\n",
    "    batch_costs = [log['cost'] for log in batch_logs]\n",
    "    epoch_cost = sum(batch_costs)/len(batch_costs)\n",
    "    log = {'cost': epoch_cost}\n",
    "    return log"
   ]
  },
  {
   "cell_type": "code",
   "execution_count": 20,
   "metadata": {},
   "outputs": [],
   "source": [
    "def fit(epochs, model, lr, opt_func, train_loader, val_loader):\n",
    "    optimizer = opt_func(model.parameters(), lr=lr)\n",
    "    logs = list()\n",
    "    for i in range(epochs):\n",
    "        # training phase\n",
    "        for batch in train_loader:\n",
    "            cost = model.cost(batch)\n",
    "            cost.backward()\n",
    "            optimizer.step()\n",
    "            optimizer.zero_grad()\n",
    "        # validation phase\n",
    "        batch_logs = [model.evaluate(batch) for batch in val_loader]\n",
    "        epoch_log = evaluate_epoch(batch_logs)\n",
    "        logs.append(epoch_log)\n",
    "        # print log\n",
    "        if ((i+1)%20 == 0) or (i == epochs-1):\n",
    "            print(\"epoch {}: cost = {}\".format(i+1, epoch_log['cost']))\n",
    "    return logs"
   ]
  },
  {
   "cell_type": "code",
   "execution_count": 21,
   "metadata": {},
   "outputs": [
    {
     "name": "stdout",
     "output_type": "stream",
     "text": [
      "in_features = 5, out_classes = 1\n",
      "nubmer of samples = 1271\n"
     ]
    }
   ],
   "source": [
    "m, in_features = X.shape\n",
    "_, out_classes = Y.shape\n",
    "print(\"in_features = {}, out_classes = {}\".format(in_features, out_classes))\n",
    "print(\"nubmer of samples = {}\".format(m))"
   ]
  },
  {
   "cell_type": "code",
   "execution_count": 22,
   "metadata": {},
   "outputs": [],
   "source": [
    "model = InsuranceModel(in_features, out_classes)\n",
    "opt_func = torch.optim.SGD"
   ]
  },
  {
   "cell_type": "code",
   "execution_count": 23,
   "metadata": {},
   "outputs": [
    {
     "name": "stderr",
     "output_type": "stream",
     "text": [
      "/home/tuanva/.local/lib/python3.8/site-packages/torch/autograd/__init__.py:130: UserWarning: CUDA initialization: Found no NVIDIA driver on your system. Please check that you have an NVIDIA GPU and installed a driver from http://www.nvidia.com/Download/index.aspx (Triggered internally at  /pytorch/c10/cuda/CUDAFunctions.cpp:100.)\n",
      "  Variable._execution_engine.run_backward(\n"
     ]
    },
    {
     "name": "stdout",
     "output_type": "stream",
     "text": [
      "epoch 20: cost = 96586232.0\n",
      "epoch 40: cost = 69157792.0\n",
      "epoch 60: cost = 55494784.0\n",
      "epoch 80: cost = 48425700.0\n",
      "epoch 100: cost = 44566684.0\n"
     ]
    }
   ],
   "source": [
    "epochs = 100\n",
    "lr = 1e-2\n",
    "logs = fit(epochs, model, lr, opt_func, train_loader, val_loader)"
   ]
  },
  {
   "cell_type": "code",
   "execution_count": 24,
   "metadata": {
    "scrolled": false
   },
   "outputs": [
    {
     "name": "stdout",
     "output_type": "stream",
     "text": [
      "epoch 20: cost = 44289156.0\n",
      "epoch 40: cost = 44025484.0\n",
      "epoch 60: cost = 43779376.0\n",
      "epoch 80: cost = 43548424.0\n",
      "epoch 100: cost = 43320360.0\n"
     ]
    }
   ],
   "source": [
    "epochs = 100\n",
    "lr = 1e-3\n",
    "l = fit(epochs, model, lr, opt_func, train_loader, val_loader)\n",
    "logs.extend(l)"
   ]
  },
  {
   "cell_type": "code",
   "execution_count": 25,
   "metadata": {},
   "outputs": [
    {
     "name": "stdout",
     "output_type": "stream",
     "text": [
      "epoch 20: cost = 43299044.0\n",
      "epoch 40: cost = 43278080.0\n",
      "epoch 60: cost = 43256968.0\n",
      "epoch 80: cost = 43236000.0\n",
      "epoch 100: cost = 43215180.0\n"
     ]
    }
   ],
   "source": [
    "epochs = 100\n",
    "lr = 1e-4\n",
    "l = fit(epochs, model, lr, opt_func, train_loader, val_loader)\n",
    "logs.extend(l)"
   ]
  },
  {
   "cell_type": "code",
   "execution_count": 26,
   "metadata": {},
   "outputs": [
    {
     "name": "stdout",
     "output_type": "stream",
     "text": [
      "epoch 20: cost = 43213080.0\n",
      "epoch 40: cost = 43210952.0\n",
      "epoch 60: cost = 43208864.0\n",
      "epoch 80: cost = 43206800.0\n",
      "epoch 100: cost = 43204696.0\n"
     ]
    }
   ],
   "source": [
    "epochs = 100\n",
    "lr = 1e-5\n",
    "l = fit(epochs, model, lr, opt_func, train_loader, val_loader)\n",
    "logs.extend(l)"
   ]
  },
  {
   "cell_type": "code",
   "execution_count": 27,
   "metadata": {},
   "outputs": [
    {
     "name": "stdout",
     "output_type": "stream",
     "text": [
      "epoch 20: cost = 43204488.0\n",
      "epoch 40: cost = 43204280.0\n",
      "epoch 60: cost = 43204096.0\n",
      "epoch 80: cost = 43203888.0\n",
      "epoch 100: cost = 43203704.0\n"
     ]
    }
   ],
   "source": [
    "epochs = 100\n",
    "lr = 1e-6\n",
    "l = fit(epochs, model, lr, opt_func, train_loader, val_loader)\n",
    "logs.extend(l)"
   ]
  },
  {
   "cell_type": "code",
   "execution_count": 28,
   "metadata": {},
   "outputs": [],
   "source": [
    "for i in range(len(logs)-1):\n",
    "    if logs[i]['cost'] < logs[i+1]['cost']:\n",
    "        print(\"i = {}: {}, {}\".format(i, logs[i]['cost'].item(), logs[i+1]['cost'].item()))\n",
    "        break"
   ]
  },
  {
   "cell_type": "markdown",
   "metadata": {},
   "source": [
    "## Make predictions"
   ]
  },
  {
   "cell_type": "code",
   "execution_count": 29,
   "metadata": {
    "scrolled": true
   },
   "outputs": [
    {
     "name": "stdout",
     "output_type": "stream",
     "text": [
      "x = [43.0, 0.0, 35.816001892089844, 3.0, 1.0], y = 42578.94\n",
      "predict = 16713.07, cost = 669042880.0\n"
     ]
    }
   ],
   "source": [
    "x, y = val_ds[0]\n",
    "yh = model(x)\n",
    "cost = model.evaluate((x, y))['cost']\n",
    "print(\"x = {}, y = {}\".format(x.tolist(), round(y.item(),2)))\n",
    "print(\"predict = {}, cost = {}\".format(round(yh.item(),2), round(cost.item(),2)))"
   ]
  },
  {
   "cell_type": "code",
   "execution_count": 30,
   "metadata": {},
   "outputs": [
    {
     "name": "stdout",
     "output_type": "stream",
     "text": [
      "x = [18.0, 1.0, 19.018999099731445, 2.0, 1.0], y = 13342.63\n",
      "predict = 16521.68, cost = 10106333.0\n"
     ]
    }
   ],
   "source": [
    "x, y = val_ds[10]\n",
    "yh = model(x)\n",
    "cost = model.evaluate((x, y))['cost']\n",
    "print(\"x = {}, y = {}\".format(x.tolist(), round(y.item(),2)))\n",
    "print(\"predict = {}, cost = {}\".format(round(yh.item(),2), round(cost.item(),2)))"
   ]
  },
  {
   "cell_type": "code",
   "execution_count": 31,
   "metadata": {},
   "outputs": [
    {
     "name": "stdout",
     "output_type": "stream",
     "text": [
      "x = [29.0, 1.0, 37.84000015258789, 0.0, 1.0], y = 37645.61\n",
      "predict = 15414.62, cost = 494216576.0\n"
     ]
    }
   ],
   "source": [
    "x, y = val_ds[23]\n",
    "yh = model(x)\n",
    "cost = model.evaluate((x, y))['cost']\n",
    "print(\"x = {}, y = {}\".format(x.tolist(), round(y.item(),2)))\n",
    "print(\"predict = {}, cost = {}\".format(round(yh.item(),2), round(cost.item(),2)))"
   ]
  },
  {
   "cell_type": "code",
   "execution_count": 32,
   "metadata": {},
   "outputs": [
    {
     "data": {
      "text/plain": [
       "[Parameter containing:\n",
       " tensor([[ 8832.4561,  -196.6887,  5016.0581,  1954.3612, 21588.1621]],\n",
       "        requires_grad=True),\n",
       " Parameter containing:\n",
       " tensor([3064.1909], requires_grad=True)]"
      ]
     },
     "execution_count": 32,
     "metadata": {},
     "output_type": "execute_result"
    }
   ],
   "source": [
    "list(model.parameters())"
   ]
  },
  {
   "cell_type": "code",
   "execution_count": null,
   "metadata": {},
   "outputs": [],
   "source": []
  }
 ],
 "metadata": {
  "kernelspec": {
   "display_name": "Python 3",
   "language": "python",
   "name": "python3"
  },
  "language_info": {
   "codemirror_mode": {
    "name": "ipython",
    "version": 3
   },
   "file_extension": ".py",
   "mimetype": "text/x-python",
   "name": "python",
   "nbconvert_exporter": "python",
   "pygments_lexer": "ipython3",
   "version": "3.8.2"
  }
 },
 "nbformat": 4,
 "nbformat_minor": 4
}
