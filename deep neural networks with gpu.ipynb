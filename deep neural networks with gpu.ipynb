{
 "cells": [
  {
   "cell_type": "markdown",
   "metadata": {
    "id": "KDSCKlg4DbsL"
   },
   "source": [
    "# Training Deep Neural Networks on a GPU\n",
    "\n",
    "In this notebook we'll train a neural network of three layers: input layer, output layer, and a hidden layer to identify handwritten digits from MNIST dataset. We also use GPU to train our model if available.\n",
    "\n",
    "![neural network](images/neural_network.svg)\n",
    "\n",
    "The workflow to predict output class from input units is presented in the figure below.\n",
    "\n",
    "![neural network workflow](images/neural_network_workflow.svg)\n",
    "\n",
    "1. Input units are passed to a activation function to compute activation units of the hidden layer. In this problem, we choose RELU (Rectified Linear Unit) function as activation function.\n",
    "2. Activation units are passed to a linear function to compute the linear predictions. These values then passed to softmax function to calculate probabilities belonging to output classes. The class having maximal probability will be considered as the prediction.\n",
    "\n",
    "**NOTE:**\n",
    "- If we choose a linear function as activation function, the neural network will become the logistic regression since the combination of two linear functions is a linear function.\n",
    "- RELU is a non-linear function. $relu(x) = max(0,x)$\n",
    "- Softmax function rescales an n-dimensional value so that its elements lie in the range $[0, 1]$ and sum to 1. $Softmax(x_i) = \\frac{e^{x_i}}{\\sum_j e^{x_j}}$"
   ]
  },
  {
   "cell_type": "markdown",
   "metadata": {
    "id": "l9u8qZuHDbsT"
   },
   "source": [
    "## Import libraries"
   ]
  },
  {
   "cell_type": "code",
   "execution_count": 1,
   "metadata": {
    "id": "oioDRb61DbsU"
   },
   "outputs": [],
   "source": [
    "from torchvision.datasets import MNIST\n",
    "from torchvision.transforms import ToTensor\n",
    "import matplotlib.pyplot as plt\n",
    "from torch.utils.data import random_split\n",
    "from torch.utils.data.dataloader import DataLoader\n",
    "from torchvision.utils import make_grid\n",
    "import torch.nn as nn\n",
    "import torch.nn.functional as F\n",
    "import torch"
   ]
  },
  {
   "cell_type": "markdown",
   "metadata": {
    "id": "1GnfY0hmDbsV"
   },
   "source": [
    "## 1. Prepare data"
   ]
  },
  {
   "cell_type": "markdown",
   "metadata": {
    "id": "XHcARu2pDbsV"
   },
   "source": [
    "### 1.1 Download data"
   ]
  },
  {
   "cell_type": "code",
   "execution_count": 2,
   "metadata": {
    "id": "iJl3iORCDbsW"
   },
   "outputs": [],
   "source": [
    "dataset = MNIST(root=\"data/\", train=True, transform=ToTensor(), download=True)\n",
    "test_ds = MNIST(root=\"data/\", train=False, transform=ToTensor())"
   ]
  },
  {
   "cell_type": "markdown",
   "metadata": {
    "id": "kO_LcVrtDbsX"
   },
   "source": [
    "### 1.2 Explorer data"
   ]
  },
  {
   "cell_type": "code",
   "execution_count": 3,
   "metadata": {
    "colab": {
     "base_uri": "https://localhost:8080/",
     "height": 299
    },
    "id": "I1rfmFqODbsX",
    "outputId": "df36668a-1daf-4d7c-e2dc-92c4d61d18e5"
   },
   "outputs": [
    {
     "name": "stdout",
     "output_type": "stream",
     "text": [
      "image shape = [1, 28, 28]\n",
      "label = 5\n"
     ]
    },
    {
     "data": {
      "image/png": "[encoded data removed]",
      "text/plain": [
       "<Figure size 432x288 with 1 Axes>"
      ]
     },
     "metadata": {
      "needs_background": "light"
     },
     "output_type": "display_data"
    }
   ],
   "source": [
    "img, label = dataset[0]\n",
    "print(\"image shape = %s\" % list(img.shape))\n",
    "print(\"label = %s\" % label)\n",
    "plt.imshow(img[0], cmap=\"gray\");"
   ]
  },
  {
   "cell_type": "code",
   "execution_count": 4,
   "metadata": {
    "colab": {
     "base_uri": "https://localhost:8080/"
    },
    "id": "g0pXS1udDbsY",
    "outputId": "473d7ed7-d23f-4097-86e6-84c069cb8b9d"
   },
   "outputs": [
    {
     "name": "stdout",
     "output_type": "stream",
     "text": [
      "dataset size = 60000\n",
      "testset size = 10000\n"
     ]
    }
   ],
   "source": [
    "print(\"dataset size = %s\" % len(dataset))\n",
    "print(\"testset size = %s\" % len(test_ds))"
   ]
  },
  {
   "cell_type": "markdown",
   "metadata": {
    "id": "v_0JpNogDbsZ"
   },
   "source": [
    "### 1.3 Split dataset to training & validation sets"
   ]
  },
  {
   "cell_type": "code",
   "execution_count": 5,
   "metadata": {
    "id": "Ne2qjujiDbsZ"
   },
   "outputs": [],
   "source": [
    "val_size = 10000\n",
    "train_size = len(dataset) - val_size\n",
    "train_ds, val_ds = random_split(dataset, [train_size, val_size])"
   ]
  },
  {
   "cell_type": "markdown",
   "metadata": {
    "id": "pEsiD3ovDbsZ"
   },
   "source": [
    "### 1.4 Create data loaders"
   ]
  },
  {
   "cell_type": "code",
   "execution_count": 6,
   "metadata": {
    "id": "S3u7CHPUDbsZ"
   },
   "outputs": [],
   "source": [
    "batch_size = 128"
   ]
  },
  {
   "cell_type": "code",
   "execution_count": 7,
   "metadata": {
    "id": "CcUskcAPDbsZ"
   },
   "outputs": [],
   "source": [
    "train_loader = DataLoader(train_ds, batch_size, shuffle=True, num_workers=4, pin_memory=True)\n",
    "val_loader = DataLoader(val_ds, batch_size*2, num_workers=4, pin_memory=True)\n",
    "test_loader = DataLoader(test_ds, batch_size*2, num_workers=4, pin_memory=True)"
   ]
  },
  {
   "cell_type": "markdown",
   "metadata": {
    "id": "DWujwpXRDbsa"
   },
   "source": [
    "## 2. Define neural network"
   ]
  },
  {
   "cell_type": "code",
   "execution_count": 8,
   "metadata": {
    "id": "dByy5VrEDbsa"
   },
   "outputs": [],
   "source": [
    "class MnistModel(nn.Module):\n",
    "    def __init__(self, in_features:int, hidden_size:int, out_classes:int):\n",
    "        super().__init__()\n",
    "        self.linear1 = nn.Linear(in_features, hidden_size)\n",
    "        self.linear2 = nn.Linear(hidden_size, out_classes)\n",
    "    \n",
    "    def forward(self, X:torch.tensor) -> torch.tensor:\n",
    "        \"\"\"Compute linear prediction of image(s)\n",
    "        \n",
    "        Args:\n",
    "            X (torch.tensor): input image(s)\n",
    "            \n",
    "        Returns:\n",
    "            torch.tensor: linear prediction of image(s)\n",
    "        \"\"\"\n",
    "        # flatten image(s)\n",
    "        X = X.reshape(-1, self.linear1.in_features)\n",
    "        # compute activation units\n",
    "        Z = self.linear1(X)\n",
    "        A = F.relu(Z)\n",
    "        # compute probabilities\n",
    "        Y_linear = self.linear2(A)\n",
    "        return Y_linear\n",
    "    \n",
    "    def predict(self, X:torch.tensor) -> torch.tensor:\n",
    "        \"\"\"Predict class(es) of image(s)\n",
    "        \n",
    "        Args:\n",
    "            X (torch.tensor): input image(s)\n",
    "            \n",
    "        Returns:\n",
    "            torch.tensor: class(es) predicted\n",
    "        \"\"\"\n",
    "        Y_linear = self(X)\n",
    "        probs = F.softmax(Y_linear.detach(), dim=1)\n",
    "        _, Y_hat = torch.max(probs, dim=1)\n",
    "        return Y_hat\n",
    "    \n",
    "    def cost_func(self, batch:list) -> torch.tensor:\n",
    "        \"\"\"Compute cost of prediction(s)\n",
    "        \n",
    "        Args:\n",
    "            batch (list): containing 2 values images & labels\n",
    "            \n",
    "        Returns:\n",
    "            torch.tesor: the cost\n",
    "        \"\"\"\n",
    "        images, labels = batch\n",
    "        Y_linear = self(images)\n",
    "        cost = F.cross_entropy(Y_linear, labels)\n",
    "        return cost\n",
    "    \n",
    "    def evaluate(self, batch:list) -> dict:\n",
    "        \"\"\"Compute cost & accuracy of prediction(s)\n",
    "        \n",
    "        Args:\n",
    "            batch (list): containing 2 values images & labels\n",
    "        \n",
    "        Returns:\n",
    "            dict: containing 2 keys \"cost\" & \"accuracy\"\n",
    "        \"\"\"\n",
    "        images, labels = batch\n",
    "        Y_hat = self.predict(images)\n",
    "        acc = torch.sum(Y_hat == labels).item()/len(Y_hat)\n",
    "        Y_linear = self(images)\n",
    "        cost = F.cross_entropy(Y_linear.detach(), labels).item()\n",
    "        res = {\n",
    "            \"cost\": cost,\n",
    "            \"accuracy\": acc\n",
    "        }\n",
    "        return res"
   ]
  },
  {
   "cell_type": "code",
   "execution_count": 9,
   "metadata": {
    "id": "sY2lRbngDbsa"
   },
   "outputs": [],
   "source": [
    "input_features = 1*28*28  # flatten image\n",
    "hidden_size = 32  # number of activation units\n",
    "output_classes = 10"
   ]
  },
  {
   "cell_type": "code",
   "execution_count": 10,
   "metadata": {
    "id": "KY_FMo1pDbsa"
   },
   "outputs": [],
   "source": [
    "model = MnistModel(input_features, hidden_size, output_classes)"
   ]
  },
  {
   "cell_type": "markdown",
   "metadata": {
    "id": "oGH__29ODbsa"
   },
   "source": [
    "## 3. Using GPU\n",
    "\n",
    "As the sizes of our models and datasets increase, we need to use GPUs to train our models within a reasonable amount of time. GPUs contain hundreds of cores optimized for performing expensive matrix operations on floating-point numbers quickly, making them ideal for training deep neural networks.\n",
    "\n",
    "We can check if a GPU is available and the required NVIDIA CUDA drivers are installed using `torch.cuda.is_available`."
   ]
  },
  {
   "cell_type": "code",
   "execution_count": 11,
   "metadata": {
    "id": "19eSLFQeDbsa"
   },
   "outputs": [],
   "source": [
    "def getDefaultDevice():\n",
    "    \"\"\"Pick GPU if available, else CPU\n",
    "    \"\"\"\n",
    "    if torch.cuda.is_available():\n",
    "        return torch.device(\"cuda\")\n",
    "    return torch.device(\"cpu\")"
   ]
  },
  {
   "cell_type": "code",
   "execution_count": 12,
   "metadata": {
    "id": "UCjJE4VwDbsb"
   },
   "outputs": [],
   "source": [
    "def toDevice(data, device:torch.device):\n",
    "    \"\"\"Move tensor(s) to chosen device\n",
    "    \n",
    "    Args:\n",
    "        device (torch.device): device to move tensor(s) to\n",
    "    \"\"\"\n",
    "    if isinstance(data, (list, tuple)):\n",
    "        return [toDevice(x, device) for x in data]\n",
    "    return data.to(device, non_blocking=True)"
   ]
  },
  {
   "cell_type": "code",
   "execution_count": 13,
   "metadata": {
    "id": "6Jjc11TEDbsb"
   },
   "outputs": [],
   "source": [
    "class DeviceDataLoader():\n",
    "    \"\"\"This class is to wrap data loader and move batches of data\n",
    "    to the selected device\n",
    "    \"\"\"\n",
    "    def __init__(self, dataloader:DataLoader, device:torch.device):\n",
    "        self.dataloader = dataloader\n",
    "        self.device = device\n",
    "    \n",
    "    def __iter__(self):\n",
    "        \"\"\"This method is to retrieve batches of data\n",
    "        \"\"\"\n",
    "        for batch in self.dataloader:\n",
    "            yield toDevice(batch, self.device)\n",
    "    \n",
    "    def __len__(self):\n",
    "        \"\"\"This method is to get the number of batches\n",
    "        \"\"\"\n",
    "        return len(self.dataloader)"
   ]
  },
  {
   "cell_type": "code",
   "execution_count": 14,
   "metadata": {
    "id": "MQVdssQqDbsb"
   },
   "outputs": [
    {
     "name": "stderr",
     "output_type": "stream",
     "text": [
      "/home/tuanva/.local/lib/python3.8/site-packages/torch/cuda/__init__.py:52: UserWarning: CUDA initialization: Found no NVIDIA driver on your system. Please check that you have an NVIDIA GPU and installed a driver from http://www.nvidia.com/Download/index.aspx (Triggered internally at  /pytorch/c10/cuda/CUDAFunctions.cpp:100.)\n",
      "  return torch._C._cuda_getDeviceCount() > 0\n"
     ]
    }
   ],
   "source": [
    "device = getDefaultDevice()\n",
    "train_loader = DeviceDataLoader(train_loader, device)\n",
    "val_loader = DeviceDataLoader(val_loader, device)"
   ]
  },
  {
   "cell_type": "code",
   "execution_count": 15,
   "metadata": {
    "colab": {
     "base_uri": "https://localhost:8080/"
    },
    "id": "9_4KS44NDbsb",
    "outputId": "5420954a-95bd-46d9-b661-ee74442b429b"
   },
   "outputs": [
    {
     "name": "stdout",
     "output_type": "stream",
     "text": [
      "device used : cpu\n"
     ]
    }
   ],
   "source": [
    "print(\"device used : %s\" % device.type)"
   ]
  },
  {
   "cell_type": "markdown",
   "metadata": {
    "id": "SpIOLSOeDbsb"
   },
   "source": [
    "## 4. Train model"
   ]
  },
  {
   "cell_type": "code",
   "execution_count": 16,
   "metadata": {
    "id": "TiELjljzDbsb"
   },
   "outputs": [],
   "source": [
    "def evaluateEpoch(batch_evals:list, decimals=2) -> dict:\n",
    "    \"\"\"Get cost & accuracy of predictions of an epoch\n",
    "    \n",
    "    Args:\n",
    "        batch_evals (list): list of batch evaluations\n",
    "        decimals (int, optional): decimals to round values\n",
    "    \n",
    "    Returns:\n",
    "        dict: containing 2 keys \"cost\" & \"accuracy\"\n",
    "    \"\"\"\n",
    "    batch_costs = [x[\"cost\"] for x in batch_evals]\n",
    "    batch_accs = [x[\"accuracy\"] for x in batch_evals]\n",
    "    cost = sum(batch_costs)/len(batch_costs)\n",
    "    acc = sum(batch_accs)/len(batch_accs)\n",
    "    res = {\n",
    "        \"cost\": round(cost, decimals),\n",
    "        \"accuracy\": round(acc, decimals)\n",
    "    }\n",
    "    return res"
   ]
  },
  {
   "cell_type": "code",
   "execution_count": 17,
   "metadata": {
    "id": "nS0TxUA6Dbsc"
   },
   "outputs": [],
   "source": [
    "def fit(epochs:int, model:MnistModel, optimizer:torch.optim,\n",
    "        train_loader:DataLoader, val_loader:DataLoader) -> list:\n",
    "    \"\"\"Train model\n",
    "    \n",
    "    Args:\n",
    "        epochs (int): number of iterations\n",
    "        model (MnistModel): model to train\n",
    "        optimizer (torch.optim): function to optimize model parameters\n",
    "        train_loader (DataLoader): data loader for training phase\n",
    "        val_loader (DataLoader): data loader for validation phase\n",
    "    \n",
    "    Returns:\n",
    "        list: evaluation results of epochs\n",
    "    \"\"\"\n",
    "    logs = list()\n",
    "    for i in range(epochs):\n",
    "        # training phase\n",
    "        for batch in train_loader:\n",
    "            cost = model.cost_func(batch)\n",
    "            cost.backward()\n",
    "            optimizer.step()\n",
    "            optimizer.zero_grad()\n",
    "        \n",
    "        # validation phase\n",
    "        batch_evals = [model.evaluate(batch) for batch in val_loader]\n",
    "        res = evaluateEpoch(batch_evals)\n",
    "        logs.append(res)\n",
    "        print(\"epoch %s: validation cost = %s, validation accuracy = %s\" %\n",
    "              (i+1, res[\"cost\"], res[\"accuracy\"]))\n",
    "    return logs"
   ]
  },
  {
   "cell_type": "code",
   "execution_count": 18,
   "metadata": {
    "colab": {
     "base_uri": "https://localhost:8080/"
    },
    "id": "4oQsRE_hDbsc",
    "outputId": "8689051b-f409-44a1-f865-370703ec7d18"
   },
   "outputs": [
    {
     "name": "stdout",
     "output_type": "stream",
     "text": [
      "epoch 1: validation cost = 0.35, validation accuracy = 0.9\n",
      "epoch 2: validation cost = 0.3, validation accuracy = 0.91\n",
      "epoch 3: validation cost = 0.26, validation accuracy = 0.92\n",
      "epoch 4: validation cost = 0.24, validation accuracy = 0.93\n",
      "epoch 5: validation cost = 0.22, validation accuracy = 0.94\n",
      "epoch 6: validation cost = 0.21, validation accuracy = 0.94\n",
      "epoch 7: validation cost = 0.2, validation accuracy = 0.94\n",
      "epoch 8: validation cost = 0.21, validation accuracy = 0.93\n",
      "epoch 9: validation cost = 0.18, validation accuracy = 0.95\n",
      "epoch 10: validation cost = 0.17, validation accuracy = 0.95\n"
     ]
    }
   ],
   "source": [
    "epochs = 10\n",
    "lr = 1e-1\n",
    "optimizer = torch.optim.SGD(model.parameters(), lr)\n",
    "logs = fit(epochs, model, optimizer, train_loader, val_loader)"
   ]
  },
  {
   "cell_type": "markdown",
   "metadata": {
    "id": "5Y82_k9iDbsc"
   },
   "source": [
    "### 4.1 Evaluations on validation set"
   ]
  },
  {
   "cell_type": "code",
   "execution_count": 19,
   "metadata": {
    "colab": {
     "base_uri": "https://localhost:8080/",
     "height": 279
    },
    "id": "QZ3kiLeODbsc",
    "outputId": "983217fd-a4d3-4b28-d19e-03b966ed3e56"
   },
   "outputs": [
    {
     "data": {
      "image/png": "[encoded data removed]",
      "text/plain": [
       "<Figure size 432x288 with 1 Axes>"
      ]
     },
     "metadata": {
      "needs_background": "light"
     },
     "output_type": "display_data"
    }
   ],
   "source": [
    "accuracies = [log['accuracy'] for log in logs]\n",
    "plt.plot(accuracies, '-x')\n",
    "plt.xlabel('epoch')\n",
    "plt.ylabel('accuracy')\n",
    "plt.xticks(range(epochs))\n",
    "plt.show();"
   ]
  },
  {
   "cell_type": "code",
   "execution_count": 20,
   "metadata": {
    "colab": {
     "base_uri": "https://localhost:8080/",
     "height": 279
    },
    "id": "QagAYqtIDbsc",
    "outputId": "cd12668c-7888-458b-98e4-b22957538276"
   },
   "outputs": [
    {
     "data": {
      "image/png": "[encoded data removed]",
      "text/plain": [
       "<Figure size 432x288 with 1 Axes>"
      ]
     },
     "metadata": {
      "needs_background": "light"
     },
     "output_type": "display_data"
    }
   ],
   "source": [
    "costs = [log['cost'] for log in logs]\n",
    "plt.plot(costs, '-x')\n",
    "plt.xlabel('epoch')\n",
    "plt.ylabel('cost')\n",
    "plt.xticks(range(epochs))\n",
    "plt.show();"
   ]
  },
  {
   "cell_type": "markdown",
   "metadata": {
    "id": "Ps0P5Q6GDbsd"
   },
   "source": [
    "### 4.3 Predict on test set"
   ]
  },
  {
   "cell_type": "code",
   "execution_count": 21,
   "metadata": {
    "colab": {
     "base_uri": "https://localhost:8080/",
     "height": 265
    },
    "id": "bTNearfZDbsd",
    "outputId": "0e04dc1e-fbfe-49ea-cbda-4fb37dbd11e0"
   },
   "outputs": [
    {
     "data": {
      "image/png": "[encoded data removed]",
      "text/plain": [
       "<Figure size 432x288 with 1 Axes>"
      ]
     },
     "metadata": {
      "needs_background": "light"
     },
     "output_type": "display_data"
    }
   ],
   "source": [
    "img, label = test_ds[100]\n",
    "plt.imshow(img[0], cmap='gray');"
   ]
  },
  {
   "cell_type": "code",
   "execution_count": 22,
   "metadata": {
    "colab": {
     "base_uri": "https://localhost:8080/"
    },
    "id": "4tNGmM3LDbsd",
    "outputId": "e85ae437-b032-4382-943f-fe47b3dbe41c"
   },
   "outputs": [
    {
     "name": "stdout",
     "output_type": "stream",
     "text": [
      "img.device = cpu\n",
      "img.device = cpu\n",
      "Label: 6, Predicted: 6\n"
     ]
    }
   ],
   "source": [
    "print(\"img.device = %s\" % img.device)\n",
    "img = toDevice(img, device)\n",
    "print(\"img.device = %s\" % img.device)\n",
    "y_hat = model.predict(img)\n",
    "print('Label: {}, Predicted: {}'.format(label, y_hat.item()))"
   ]
  },
  {
   "cell_type": "markdown",
   "metadata": {
    "id": "5QLe5eU4Dbsd"
   },
   "source": [
    "### 4.4 Evaluation on test set"
   ]
  },
  {
   "cell_type": "code",
   "execution_count": 23,
   "metadata": {
    "id": "uDHTKqJEFPPd"
   },
   "outputs": [],
   "source": [
    "test_loader = DeviceDataLoader(test_loader, device)"
   ]
  },
  {
   "cell_type": "code",
   "execution_count": 24,
   "metadata": {
    "colab": {
     "base_uri": "https://localhost:8080/"
    },
    "id": "mlIpnv3jDbsd",
    "outputId": "710a720c-3f2f-44a2-96ce-f56760733622"
   },
   "outputs": [
    {
     "name": "stdout",
     "output_type": "stream",
     "text": [
      "test cost = 0.15, test accuracy = 0.96\n"
     ]
    }
   ],
   "source": [
    "batch_evals = [model.evaluate(batch) for batch in test_loader]\n",
    "res = evaluateEpoch(batch_evals)\n",
    "print('test cost = {}, test accuracy = {}'.format(res['cost'], res['accuracy']))"
   ]
  },
  {
   "cell_type": "code",
   "execution_count": null,
   "metadata": {
    "id": "SH5uRqhcDbse"
   },
   "outputs": [],
   "source": []
  }
 ],
 "metadata": {
  "accelerator": "GPU",
  "colab": {
   "collapsed_sections": [],
   "name": "deep neural networks.ipynb",
   "provenance": []
  },
  "kernelspec": {
   "display_name": "Python 3",
   "language": "python",
   "name": "python3"
  },
  "language_info": {
   "codemirror_mode": {
    "name": "ipython",
    "version": 3
   },
   "file_extension": ".py",
   "mimetype": "text/x-python",
   "name": "python",
   "nbconvert_exporter": "python",
   "pygments_lexer": "ipython3",
   "version": "3.8.2"
  }
 },
 "nbformat": 4,
 "nbformat_minor": 1
}
