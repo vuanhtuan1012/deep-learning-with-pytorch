{
 "cells": [
  {
   "cell_type": "markdown",
   "metadata": {},
   "source": [
    "# Insurance Cost Prediction\n",
    "\n",
    "In this notebook we're going to use information like a person's age, sex, BMI, no. of children and smoking habit to **predict the price of yearly medical bills**. This kind of model is useful for insurance companies to determine the yearly insurance premium for a person.\n",
    "\n",
    "The dataset for this problem is taken from [Kaggle](https://www.kaggle.com/mirichoi0218/insurance).\n",
    "\n",
    "The figure below presents the workflow of the training process.\n",
    "\n",
    "![insurance cost prediction](images/insurance_cost_prediction.svg)"
   ]
  },
  {
   "cell_type": "markdown",
   "metadata": {},
   "source": [
    "## Import libraries"
   ]
  },
  {
   "cell_type": "code",
   "execution_count": 1,
   "metadata": {},
   "outputs": [],
   "source": [
    "import pandas as pd\n",
    "import torch\n",
    "from torchvision.datasets.utils import download_url\n",
    "import torch.nn as nn\n",
    "import torch.nn.functional as F\n",
    "from torch.utils.data import DataLoader, TensorDataset, random_split\n",
    "import matplotlib.pyplot as plt"
   ]
  },
  {
   "cell_type": "markdown",
   "metadata": {},
   "source": [
    "## 1. Prepare data"
   ]
  },
  {
   "cell_type": "markdown",
   "metadata": {},
   "source": [
    "### 1.1 Download data"
   ]
  },
  {
   "cell_type": "code",
   "execution_count": 2,
   "metadata": {},
   "outputs": [
    {
     "name": "stdout",
     "output_type": "stream",
     "text": [
      "Using downloaded and verified file: ./insurance.csv\n"
     ]
    }
   ],
   "source": [
    "DATASET_URL = \"https://raw.githubusercontent.com/stedy/Machine-Learning-with-R-datasets/master/insurance.csv\"\n",
    "DATA_FILENAME = \"insurance.csv\"\n",
    "download_url(DATASET_URL, '.')"
   ]
  },
  {
   "cell_type": "code",
   "execution_count": 3,
   "metadata": {},
   "outputs": [
    {
     "data": {
      "text/html": [
       "<div>\n",
       "<style scoped>\n",
       "    .dataframe tbody tr th:only-of-type {\n",
       "        vertical-align: middle;\n",
       "    }\n",
       "\n",
       "    .dataframe tbody tr th {\n",
       "        vertical-align: top;\n",
       "    }\n",
       "\n",
       "    .dataframe thead th {\n",
       "        text-align: right;\n",
       "    }\n",
       "</style>\n",
       "<table border=\"1\" class=\"dataframe\">\n",
       "  <thead>\n",
       "    <tr style=\"text-align: right;\">\n",
       "      <th></th>\n",
       "      <th>age</th>\n",
       "      <th>sex</th>\n",
       "      <th>bmi</th>\n",
       "      <th>children</th>\n",
       "      <th>smoker</th>\n",
       "      <th>region</th>\n",
       "      <th>charges</th>\n",
       "    </tr>\n",
       "  </thead>\n",
       "  <tbody>\n",
       "    <tr>\n",
       "      <th>0</th>\n",
       "      <td>19</td>\n",
       "      <td>female</td>\n",
       "      <td>27.900</td>\n",
       "      <td>0</td>\n",
       "      <td>yes</td>\n",
       "      <td>southwest</td>\n",
       "      <td>16884.92400</td>\n",
       "    </tr>\n",
       "    <tr>\n",
       "      <th>1</th>\n",
       "      <td>18</td>\n",
       "      <td>male</td>\n",
       "      <td>33.770</td>\n",
       "      <td>1</td>\n",
       "      <td>no</td>\n",
       "      <td>southeast</td>\n",
       "      <td>1725.55230</td>\n",
       "    </tr>\n",
       "    <tr>\n",
       "      <th>2</th>\n",
       "      <td>28</td>\n",
       "      <td>male</td>\n",
       "      <td>33.000</td>\n",
       "      <td>3</td>\n",
       "      <td>no</td>\n",
       "      <td>southeast</td>\n",
       "      <td>4449.46200</td>\n",
       "    </tr>\n",
       "    <tr>\n",
       "      <th>3</th>\n",
       "      <td>33</td>\n",
       "      <td>male</td>\n",
       "      <td>22.705</td>\n",
       "      <td>0</td>\n",
       "      <td>no</td>\n",
       "      <td>northwest</td>\n",
       "      <td>21984.47061</td>\n",
       "    </tr>\n",
       "    <tr>\n",
       "      <th>4</th>\n",
       "      <td>32</td>\n",
       "      <td>male</td>\n",
       "      <td>28.880</td>\n",
       "      <td>0</td>\n",
       "      <td>no</td>\n",
       "      <td>northwest</td>\n",
       "      <td>3866.85520</td>\n",
       "    </tr>\n",
       "  </tbody>\n",
       "</table>\n",
       "</div>"
      ],
      "text/plain": [
       "   age     sex     bmi  children smoker     region      charges\n",
       "0   19  female  27.900         0    yes  southwest  16884.92400\n",
       "1   18    male  33.770         1     no  southeast   1725.55230\n",
       "2   28    male  33.000         3     no  southeast   4449.46200\n",
       "3   33    male  22.705         0     no  northwest  21984.47061\n",
       "4   32    male  28.880         0     no  northwest   3866.85520"
      ]
     },
     "execution_count": 3,
     "metadata": {},
     "output_type": "execute_result"
    }
   ],
   "source": [
    "df_raw = pd.read_csv(DATA_FILENAME)\n",
    "df_raw.head()"
   ]
  },
  {
   "cell_type": "markdown",
   "metadata": {},
   "source": [
    "### 1.2 Customize data"
   ]
  },
  {
   "cell_type": "code",
   "execution_count": 4,
   "metadata": {},
   "outputs": [],
   "source": [
    "def customize_data(df_raw, rand_str):\n",
    "    df = df_raw.copy(deep=True)\n",
    "    # drops some rows\n",
    "    df = df.sample(int(0.95*len(df)), random_state=int(ord(rand_str[0])))\n",
    "    # scale input\n",
    "    df.bmi = df.bmi * ord(rand_str[1])/100.\n",
    "    # scale target\n",
    "    df.charges = df.charges * ord(rand_str[2])/100.\n",
    "    # drop column\n",
    "    if ord(rand_str[3]) % 2 == 1:\n",
    "        df = df.drop(['region'], axis=1)\n",
    "    return df"
   ]
  },
  {
   "cell_type": "code",
   "execution_count": 5,
   "metadata": {},
   "outputs": [
    {
     "data": {
      "text/html": [
       "<div>\n",
       "<style scoped>\n",
       "    .dataframe tbody tr th:only-of-type {\n",
       "        vertical-align: middle;\n",
       "    }\n",
       "\n",
       "    .dataframe tbody tr th {\n",
       "        vertical-align: top;\n",
       "    }\n",
       "\n",
       "    .dataframe thead th {\n",
       "        text-align: right;\n",
       "    }\n",
       "</style>\n",
       "<table border=\"1\" class=\"dataframe\">\n",
       "  <thead>\n",
       "    <tr style=\"text-align: right;\">\n",
       "      <th></th>\n",
       "      <th>age</th>\n",
       "      <th>sex</th>\n",
       "      <th>bmi</th>\n",
       "      <th>children</th>\n",
       "      <th>smoker</th>\n",
       "      <th>charges</th>\n",
       "    </tr>\n",
       "  </thead>\n",
       "  <tbody>\n",
       "    <tr>\n",
       "      <th>27</th>\n",
       "      <td>55</td>\n",
       "      <td>female</td>\n",
       "      <td>36.0525</td>\n",
       "      <td>2</td>\n",
       "      <td>no</td>\n",
       "      <td>12759.377540</td>\n",
       "    </tr>\n",
       "    <tr>\n",
       "      <th>997</th>\n",
       "      <td>63</td>\n",
       "      <td>female</td>\n",
       "      <td>40.5350</td>\n",
       "      <td>0</td>\n",
       "      <td>no</td>\n",
       "      <td>14443.487240</td>\n",
       "    </tr>\n",
       "    <tr>\n",
       "      <th>162</th>\n",
       "      <td>54</td>\n",
       "      <td>male</td>\n",
       "      <td>43.5600</td>\n",
       "      <td>1</td>\n",
       "      <td>no</td>\n",
       "      <td>10868.574080</td>\n",
       "    </tr>\n",
       "    <tr>\n",
       "      <th>824</th>\n",
       "      <td>60</td>\n",
       "      <td>male</td>\n",
       "      <td>26.7520</td>\n",
       "      <td>0</td>\n",
       "      <td>no</td>\n",
       "      <td>13024.548992</td>\n",
       "    </tr>\n",
       "    <tr>\n",
       "      <th>392</th>\n",
       "      <td>48</td>\n",
       "      <td>male</td>\n",
       "      <td>34.5895</td>\n",
       "      <td>1</td>\n",
       "      <td>no</td>\n",
       "      <td>9322.622972</td>\n",
       "    </tr>\n",
       "  </tbody>\n",
       "</table>\n",
       "</div>"
      ],
      "text/plain": [
       "     age     sex      bmi  children smoker       charges\n",
       "27    55  female  36.0525         2     no  12759.377540\n",
       "997   63  female  40.5350         0     no  14443.487240\n",
       "162   54    male  43.5600         1     no  10868.574080\n",
       "824   60    male  26.7520         0     no  13024.548992\n",
       "392   48    male  34.5895         1     no   9322.622972"
      ]
     },
     "execution_count": 5,
     "metadata": {},
     "output_type": "execute_result"
    }
   ],
   "source": [
    "rand_str = \"anh-tuan\"\n",
    "df = customize_data(df_raw, rand_str)\n",
    "df.head()"
   ]
  },
  {
   "cell_type": "markdown",
   "metadata": {},
   "source": [
    "### 1.3 Convert categorical data to numbers"
   ]
  },
  {
   "cell_type": "code",
   "execution_count": 6,
   "metadata": {},
   "outputs": [],
   "source": [
    "def df_to_arrays(df, input_cols, cat_cols, output_cols):\n",
    "    # make a copy of the original dataframe\n",
    "    df1 = df.copy(deep=True)\n",
    "    # convert non-numeric categorical columns to numbers\n",
    "    for col in cat_cols:\n",
    "        df1[col] = df1[col].astype('category').cat.codes\n",
    "    # extract input & output arrays as numpy arrays\n",
    "    inputs_array = df1[input_cols].to_numpy()\n",
    "    targets_array = df1[output_cols].to_numpy()\n",
    "    return inputs_array, targets_array"
   ]
  },
  {
   "cell_type": "code",
   "execution_count": 7,
   "metadata": {
    "scrolled": true
   },
   "outputs": [
    {
     "data": {
      "text/plain": [
       "array([[55.    ,  0.    , 36.0525,  2.    ,  0.    ],\n",
       "       [63.    ,  0.    , 40.535 ,  0.    ,  0.    ],\n",
       "       [54.    ,  1.    , 43.56  ,  1.    ,  0.    ],\n",
       "       [60.    ,  1.    , 26.752 ,  0.    ,  0.    ],\n",
       "       [48.    ,  1.    , 34.5895,  1.    ,  0.    ]])"
      ]
     },
     "metadata": {},
     "output_type": "display_data"
    },
    {
     "data": {
      "text/plain": [
       "array([[12759.37754 ],\n",
       "       [14443.48724 ],\n",
       "       [10868.57408 ],\n",
       "       [13024.548992],\n",
       "       [ 9322.622972]])"
      ]
     },
     "metadata": {},
     "output_type": "display_data"
    }
   ],
   "source": [
    "input_cols = ['age', 'sex', 'bmi', 'children', 'smoker']\n",
    "cat_cols = ['sex', 'smoker']\n",
    "output_cols = ['charges']\n",
    "\n",
    "inputs, targets = df_to_arrays(df, input_cols, cat_cols, output_cols)\n",
    "display(inputs[:5,:])\n",
    "display(targets[:5, :])"
   ]
  },
  {
   "cell_type": "markdown",
   "metadata": {},
   "source": [
    "### 1.4 Convert numpy arrays to tensors"
   ]
  },
  {
   "cell_type": "code",
   "execution_count": 8,
   "metadata": {},
   "outputs": [
    {
     "data": {
      "text/plain": [
       "(torch.float32, torch.float32)"
      ]
     },
     "execution_count": 8,
     "metadata": {},
     "output_type": "execute_result"
    }
   ],
   "source": [
    "X = torch.from_numpy(inputs.astype('float32'))\n",
    "Y = torch.from_numpy(targets.astype('float32'))\n",
    "X.dtype, Y.dtype"
   ]
  },
  {
   "cell_type": "markdown",
   "metadata": {},
   "source": [
    "### 1.5 Define datasets & data loaders"
   ]
  },
  {
   "cell_type": "code",
   "execution_count": 9,
   "metadata": {},
   "outputs": [
    {
     "name": "stdout",
     "output_type": "stream",
     "text": [
      "ds_size = 1271, train_size = 1081, val_size = 190\n"
     ]
    }
   ],
   "source": [
    "# create dataset\n",
    "dataset = TensorDataset(X, Y)\n",
    "# split the dataset to training dataset & validation dataset\n",
    "val_percent = 0.15\n",
    "ds_size = len(dataset)\n",
    "val_size = int(ds_size*val_percent)\n",
    "train_size = ds_size - val_size\n",
    "train_ds, val_ds = random_split(dataset, [train_size, val_size])\n",
    "print(\"ds_size = {}, train_size = {}, val_size = {}\".format(ds_size, train_size, val_size))"
   ]
  },
  {
   "cell_type": "code",
   "execution_count": 10,
   "metadata": {},
   "outputs": [],
   "source": [
    "# create data loaders\n",
    "batch_size = 95\n",
    "train_loader = DataLoader(train_ds, batch_size*2, shuffle=True)\n",
    "val_loader = DataLoader(val_ds, batch_size)"
   ]
  },
  {
   "cell_type": "code",
   "execution_count": 11,
   "metadata": {},
   "outputs": [
    {
     "data": {
      "text/plain": [
       "tensor([[34.0000,  1.0000, 23.5125,  0.0000,  0.0000],\n",
       "        [24.0000,  0.0000, 43.4390,  0.0000,  0.0000],\n",
       "        [39.0000,  1.0000, 32.9175,  1.0000,  1.0000],\n",
       "        [50.0000,  1.0000, 35.5300,  1.0000,  1.0000],\n",
       "        [39.0000,  1.0000, 29.0510,  0.0000,  1.0000]])"
      ]
     },
     "metadata": {},
     "output_type": "display_data"
    },
    {
     "data": {
      "text/plain": [
       "tensor([[ 4680.3530],\n",
       "        [ 2580.2183],\n",
       "        [23360.5254],\n",
       "        [43595.8594],\n",
       "        [20955.2949]])"
      ]
     },
     "metadata": {},
     "output_type": "display_data"
    }
   ],
   "source": [
    "for batch in train_loader:\n",
    "    Xb, Yb = batch\n",
    "    break\n",
    "display(Xb[:5,:])\n",
    "display(Yb[:5,:])"
   ]
  },
  {
   "cell_type": "markdown",
   "metadata": {},
   "source": [
    "### 1.6 Explorer Data"
   ]
  },
  {
   "cell_type": "code",
   "execution_count": 12,
   "metadata": {
    "scrolled": false
   },
   "outputs": [
    {
     "data": {
      "text/html": [
       "<div>\n",
       "<style scoped>\n",
       "    .dataframe tbody tr th:only-of-type {\n",
       "        vertical-align: middle;\n",
       "    }\n",
       "\n",
       "    .dataframe tbody tr th {\n",
       "        vertical-align: top;\n",
       "    }\n",
       "\n",
       "    .dataframe thead th {\n",
       "        text-align: right;\n",
       "    }\n",
       "</style>\n",
       "<table border=\"1\" class=\"dataframe\">\n",
       "  <thead>\n",
       "    <tr style=\"text-align: right;\">\n",
       "      <th></th>\n",
       "      <th>0</th>\n",
       "      <th>1</th>\n",
       "      <th>2</th>\n",
       "      <th>3</th>\n",
       "      <th>4</th>\n",
       "    </tr>\n",
       "  </thead>\n",
       "  <tbody>\n",
       "    <tr>\n",
       "      <th>count</th>\n",
       "      <td>1271.000000</td>\n",
       "      <td>1271.000000</td>\n",
       "      <td>1271.000000</td>\n",
       "      <td>1271.000000</td>\n",
       "      <td>1271.000000</td>\n",
       "    </tr>\n",
       "    <tr>\n",
       "      <th>mean</th>\n",
       "      <td>39.357201</td>\n",
       "      <td>0.505114</td>\n",
       "      <td>33.803879</td>\n",
       "      <td>1.098348</td>\n",
       "      <td>0.205350</td>\n",
       "    </tr>\n",
       "    <tr>\n",
       "      <th>std</th>\n",
       "      <td>14.045815</td>\n",
       "      <td>0.500171</td>\n",
       "      <td>6.733942</td>\n",
       "      <td>1.202591</td>\n",
       "      <td>0.404116</td>\n",
       "    </tr>\n",
       "    <tr>\n",
       "      <th>min</th>\n",
       "      <td>18.000000</td>\n",
       "      <td>0.000000</td>\n",
       "      <td>17.556000</td>\n",
       "      <td>0.000000</td>\n",
       "      <td>0.000000</td>\n",
       "    </tr>\n",
       "    <tr>\n",
       "      <th>25%</th>\n",
       "      <td>27.000000</td>\n",
       "      <td>0.000000</td>\n",
       "      <td>28.946501</td>\n",
       "      <td>0.000000</td>\n",
       "      <td>0.000000</td>\n",
       "    </tr>\n",
       "    <tr>\n",
       "      <th>50%</th>\n",
       "      <td>40.000000</td>\n",
       "      <td>1.000000</td>\n",
       "      <td>33.544498</td>\n",
       "      <td>1.000000</td>\n",
       "      <td>0.000000</td>\n",
       "    </tr>\n",
       "    <tr>\n",
       "      <th>75%</th>\n",
       "      <td>51.000000</td>\n",
       "      <td>1.000000</td>\n",
       "      <td>38.279999</td>\n",
       "      <td>2.000000</td>\n",
       "      <td>0.000000</td>\n",
       "    </tr>\n",
       "    <tr>\n",
       "      <th>max</th>\n",
       "      <td>64.000000</td>\n",
       "      <td>1.000000</td>\n",
       "      <td>58.443001</td>\n",
       "      <td>5.000000</td>\n",
       "      <td>1.000000</td>\n",
       "    </tr>\n",
       "  </tbody>\n",
       "</table>\n",
       "</div>"
      ],
      "text/plain": [
       "                 0            1            2            3            4\n",
       "count  1271.000000  1271.000000  1271.000000  1271.000000  1271.000000\n",
       "mean     39.357201     0.505114    33.803879     1.098348     0.205350\n",
       "std      14.045815     0.500171     6.733942     1.202591     0.404116\n",
       "min      18.000000     0.000000    17.556000     0.000000     0.000000\n",
       "25%      27.000000     0.000000    28.946501     0.000000     0.000000\n",
       "50%      40.000000     1.000000    33.544498     1.000000     0.000000\n",
       "75%      51.000000     1.000000    38.279999     2.000000     0.000000\n",
       "max      64.000000     1.000000    58.443001     5.000000     1.000000"
      ]
     },
     "metadata": {},
     "output_type": "display_data"
    }
   ],
   "source": [
    "X_df = pd.DataFrame(X.numpy())\n",
    "display(X_df.describe())"
   ]
  },
  {
   "cell_type": "code",
   "execution_count": 13,
   "metadata": {
    "scrolled": true
   },
   "outputs": [
    {
     "data": {
      "text/html": [
       "<div>\n",
       "<style scoped>\n",
       "    .dataframe tbody tr th:only-of-type {\n",
       "        vertical-align: middle;\n",
       "    }\n",
       "\n",
       "    .dataframe tbody tr th {\n",
       "        vertical-align: top;\n",
       "    }\n",
       "\n",
       "    .dataframe thead th {\n",
       "        text-align: right;\n",
       "    }\n",
       "</style>\n",
       "<table border=\"1\" class=\"dataframe\">\n",
       "  <thead>\n",
       "    <tr style=\"text-align: right;\">\n",
       "      <th></th>\n",
       "      <th>0</th>\n",
       "    </tr>\n",
       "  </thead>\n",
       "  <tbody>\n",
       "    <tr>\n",
       "      <th>count</th>\n",
       "      <td>1271.000000</td>\n",
       "    </tr>\n",
       "    <tr>\n",
       "      <th>mean</th>\n",
       "      <td>13846.762695</td>\n",
       "    </tr>\n",
       "    <tr>\n",
       "      <th>std</th>\n",
       "      <td>12656.316406</td>\n",
       "    </tr>\n",
       "    <tr>\n",
       "      <th>min</th>\n",
       "      <td>1166.748901</td>\n",
       "    </tr>\n",
       "    <tr>\n",
       "      <th>25%</th>\n",
       "      <td>4942.447510</td>\n",
       "    </tr>\n",
       "    <tr>\n",
       "      <th>50%</th>\n",
       "      <td>9767.000000</td>\n",
       "    </tr>\n",
       "    <tr>\n",
       "      <th>75%</th>\n",
       "      <td>17111.432617</td>\n",
       "    </tr>\n",
       "    <tr>\n",
       "      <th>max</th>\n",
       "      <td>66321.242188</td>\n",
       "    </tr>\n",
       "  </tbody>\n",
       "</table>\n",
       "</div>"
      ],
      "text/plain": [
       "                  0\n",
       "count   1271.000000\n",
       "mean   13846.762695\n",
       "std    12656.316406\n",
       "min     1166.748901\n",
       "25%     4942.447510\n",
       "50%     9767.000000\n",
       "75%    17111.432617\n",
       "max    66321.242188"
      ]
     },
     "metadata": {},
     "output_type": "display_data"
    }
   ],
   "source": [
    "Y_df = pd.DataFrame(Y.numpy())\n",
    "display(Y_df.describe())"
   ]
  },
  {
   "cell_type": "markdown",
   "metadata": {},
   "source": [
    "## 2. Create model"
   ]
  },
  {
   "cell_type": "markdown",
   "metadata": {},
   "source": [
    "Since features are in different ranges, we perform feature normalization before launching gradient descent so that it converges quickly.\n",
    "\n",
    "Since target values are so large, we do scale down targets before launching gradient descent and scale up the prediction to reduce the cost."
   ]
  },
  {
   "cell_type": "code",
   "execution_count": 14,
   "metadata": {},
   "outputs": [],
   "source": [
    "def normalize_features(X):\n",
    "    mu = torch.mean(X, dim=0)\n",
    "    std = torch.std(X, dim=0)\n",
    "    X_norm = (X - mu)/std\n",
    "    return X_norm"
   ]
  },
  {
   "cell_type": "code",
   "execution_count": 15,
   "metadata": {},
   "outputs": [],
   "source": [
    "SCALE_RATIO = 1e4\n",
    "\n",
    "def scale_down(Y):\n",
    "    Ys = Y/SCALE_RATIO\n",
    "    return Ys\n",
    "\n",
    "def scale_up(Y):\n",
    "    Ys = Y*SCALE_RATIO\n",
    "    return Ys"
   ]
  },
  {
   "cell_type": "code",
   "execution_count": 16,
   "metadata": {},
   "outputs": [],
   "source": [
    "class InsuranceModel(nn.Module):\n",
    "    def __init__(self, in_features, out_classes):\n",
    "        super().__init__()\n",
    "        self.linear = nn.Linear(in_features, out_classes)\n",
    "    \n",
    "    def forward(self, X):\n",
    "        X_norm = normalize_features(X)\n",
    "        Y_hat = self.linear(X_norm)\n",
    "        return Y_hat\n",
    "    \n",
    "    def cost_func(self, batch):\n",
    "        X, Y = batch\n",
    "        Y_hat = self(X)\n",
    "        cost = F.mse_loss(Y_hat, scale_down(Y))\n",
    "        return cost\n",
    "    \n",
    "    def predict(self, X):\n",
    "        Y_hat = self(X)\n",
    "        return scale_up(Y_hat.detach())\n",
    "    \n",
    "    def evaluate_batch(self, batch):\n",
    "        X, Y = batch\n",
    "        Y_hat = self(X)\n",
    "        cost = F.mse_loss(Y_hat.detach(), scale_down(Y))\n",
    "        log = {'cost': cost}\n",
    "        return log"
   ]
  },
  {
   "cell_type": "code",
   "execution_count": 17,
   "metadata": {},
   "outputs": [
    {
     "name": "stdout",
     "output_type": "stream",
     "text": [
      "in_features = 5, out_classes = 1\n",
      "nubmer of samples = 1271\n"
     ]
    }
   ],
   "source": [
    "m, in_features = X.shape\n",
    "_, out_classes = Y.shape\n",
    "print(\"in_features = {}, out_classes = {}\".format(in_features, out_classes))\n",
    "print(\"nubmer of samples = {}\".format(m))\n",
    "\n",
    "model = InsuranceModel(in_features, out_classes)"
   ]
  },
  {
   "cell_type": "markdown",
   "metadata": {},
   "source": [
    "## 3. Define optimizer"
   ]
  },
  {
   "cell_type": "code",
   "execution_count": 18,
   "metadata": {},
   "outputs": [],
   "source": [
    "# define optimizer\n",
    "lr = 1e-2\n",
    "optimizer = torch.optim.SGD(model.parameters(), lr=lr)"
   ]
  },
  {
   "cell_type": "markdown",
   "metadata": {},
   "source": [
    "## 4. Train model"
   ]
  },
  {
   "cell_type": "code",
   "execution_count": 19,
   "metadata": {},
   "outputs": [],
   "source": [
    "def evaluate_epoch(batch_evals):\n",
    "    batch_costs = [log['cost'] for log in batch_evals]\n",
    "    epoch_cost = sum(batch_costs)/len(batch_costs)\n",
    "    log = {'cost': epoch_cost}\n",
    "    return log"
   ]
  },
  {
   "cell_type": "code",
   "execution_count": 20,
   "metadata": {},
   "outputs": [],
   "source": [
    "def fit(epochs, model, optimizer, train_loader, val_loader):\n",
    "    logs = list()\n",
    "    for i in range(epochs):\n",
    "        # training phase\n",
    "        for batch in train_loader:\n",
    "            cost = model.cost_func(batch)\n",
    "            cost.backward()\n",
    "            optimizer.step()\n",
    "            optimizer.zero_grad()\n",
    "        \n",
    "        # validation phase\n",
    "        batch_logs = [model.evaluate_batch(batch) for batch in val_loader]\n",
    "        epoch_log = evaluate_epoch(batch_logs)\n",
    "        logs.append(epoch_log)\n",
    "        \n",
    "        # print log\n",
    "        if ((i+1)%20 == 0) or (i == epochs-1):\n",
    "            print(\"epoch {}: cost = {}\".format(i+1, epoch_log['cost']))\n",
    "    return logs"
   ]
  },
  {
   "cell_type": "code",
   "execution_count": 21,
   "metadata": {
    "scrolled": true
   },
   "outputs": [
    {
     "name": "stderr",
     "output_type": "stream",
     "text": [
      "/home/tuanva/.local/lib/python3.8/site-packages/torch/autograd/__init__.py:130: UserWarning: CUDA initialization: Found no NVIDIA driver on your system. Please check that you have an NVIDIA GPU and installed a driver from http://www.nvidia.com/Download/index.aspx (Triggered internally at  /pytorch/c10/cuda/CUDAFunctions.cpp:100.)\n",
      "  Variable._execution_engine.run_backward(\n"
     ]
    },
    {
     "name": "stdout",
     "output_type": "stream",
     "text": [
      "epoch 20: cost = 0.4554198980331421\n",
      "epoch 40: cost = 0.4322964549064636\n",
      "epoch 60: cost = 0.4316578507423401\n",
      "epoch 80: cost = 0.43136149644851685\n",
      "epoch 100: cost = 0.43137943744659424\n"
     ]
    }
   ],
   "source": [
    "epochs = 100\n",
    "logs = fit(epochs, model, optimizer, train_loader, val_loader)"
   ]
  },
  {
   "cell_type": "code",
   "execution_count": 22,
   "metadata": {
    "scrolled": true
   },
   "outputs": [
    {
     "data": {
      "image/png": "[encoded data removed]",
      "text/plain": [
       "<Figure size 432x288 with 1 Axes>"
      ]
     },
     "metadata": {
      "needs_background": "light"
     },
     "output_type": "display_data"
    }
   ],
   "source": [
    "costs = [log['cost'].item() for log in logs]\n",
    "plt.plot(costs)\n",
    "plt.xlabel(\"epoch\")\n",
    "plt.ylabel(\"cost\")\n",
    "plt.show()"
   ]
  },
  {
   "cell_type": "markdown",
   "metadata": {},
   "source": [
    "## 5. Make predictions"
   ]
  },
  {
   "cell_type": "code",
   "execution_count": 23,
   "metadata": {
    "scrolled": true
   },
   "outputs": [
    {
     "name": "stdout",
     "output_type": "stream",
     "text": [
      "x = [24.0, 1.0, 36.99300003051758, 4.0, 0.0], y = 17813.56\n",
      "- yh = 10931.89\n",
      "- cost = 0.47\n"
     ]
    }
   ],
   "source": [
    "x, y = val_ds[0]\n",
    "yh = model.predict(x)\n",
    "cost = model.evaluate_batch((x, y))['cost']\n",
    "print(\"x = {}, y = {}\".format(x.tolist(), round(y.item(),2)))\n",
    "print(\"- yh = {}\\n- cost = {}\".format(round(yh.item(),2), round(cost.item(),2)))"
   ]
  },
  {
   "cell_type": "code",
   "execution_count": 24,
   "metadata": {},
   "outputs": [
    {
     "name": "stdout",
     "output_type": "stream",
     "text": [
      "x = [38.0, 0.0, 29.991500854492188, 1.0, 0.0], y = 6817.27\n",
      "- yh = 12659.37\n",
      "- cost = 0.34\n"
     ]
    }
   ],
   "source": [
    "x, y = val_ds[10]\n",
    "yh = model.predict(x)\n",
    "cost = model.evaluate_batch((x, y))['cost']\n",
    "print(\"x = {}, y = {}\".format(x.tolist(), round(y.item(),2)))\n",
    "print(\"- yh = {}\\n- cost = {}\".format(round(yh.item(),2), round(cost.item(),2)))"
   ]
  },
  {
   "cell_type": "code",
   "execution_count": 25,
   "metadata": {},
   "outputs": [
    {
     "name": "stdout",
     "output_type": "stream",
     "text": [
      "x = [48.0, 1.0, 33.858001708984375, 3.0, 0.0], y = 10546.78\n",
      "- yh = 12453.92\n",
      "- cost = 0.04\n"
     ]
    }
   ],
   "source": [
    "x, y = val_ds[23]\n",
    "yh = model.predict(x)\n",
    "cost = model.evaluate_batch((x, y))['cost']\n",
    "print(\"x = {}, y = {}\".format(x.tolist(), round(y.item(),2)))\n",
    "print(\"- yh = {}\\n- cost = {}\".format(round(yh.item(),2), round(cost.item(),2)))"
   ]
  },
  {
   "cell_type": "code",
   "execution_count": null,
   "metadata": {},
   "outputs": [],
   "source": []
  }
 ],
 "metadata": {
  "kernelspec": {
   "display_name": "Python 3",
   "language": "python",
   "name": "python3"
  },
  "language_info": {
   "codemirror_mode": {
    "name": "ipython",
    "version": 3
   },
   "file_extension": ".py",
   "mimetype": "text/x-python",
   "name": "python",
   "nbconvert_exporter": "python",
   "pygments_lexer": "ipython3",
   "version": "3.8.2"
  }
 },
 "nbformat": 4,
 "nbformat_minor": 4
}
